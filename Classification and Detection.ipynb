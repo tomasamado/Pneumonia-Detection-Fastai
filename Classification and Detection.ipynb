{
 "cells": [
  {
   "cell_type": "code",
   "execution_count": 137,
   "metadata": {},
   "outputs": [
    {
     "name": "stdout",
     "output_type": "stream",
     "text": [
      "The autoreload extension is already loaded. To reload it, use:\n",
      "  %reload_ext autoreload\n"
     ]
    }
   ],
   "source": [
    "%load_ext autoreload\n",
    "%autoreload 2"
   ]
  },
  {
   "cell_type": "code",
   "execution_count": 138,
   "metadata": {},
   "outputs": [],
   "source": [
    "import fastai\n",
    "import fastai.dataset\n",
    "import pydicom\n",
    "from PIL import ImageDraw, ImageFont\n",
    "from matplotlib import patches, patheffects\n",
    "from fastai.conv_learner import *\n",
    "from fastai.dataset import *\n"
   ]
  },
  {
   "cell_type": "code",
   "execution_count": 139,
   "metadata": {},
   "outputs": [],
   "source": [
    "torch.backends.cudnn.benchmark=True"
   ]
  },
  {
   "cell_type": "code",
   "execution_count": null,
   "metadata": {},
   "outputs": [],
   "source": [
    "PATH = Path('path/to/data')"
   ]
  },
  {
   "cell_type": "code",
   "execution_count": 140,
   "metadata": {},
   "outputs": [],
   "source": [
    "def isdicom(fn):\n",
    "    if fn.endswith('.dcm'):\n",
    "        return True\n",
    "    with open(fn) as fh:\n",
    "        fh.seek(0x80)\n",
    "        return fh.read(4)=='DICM'\n",
    "\n",
    "\n",
    "def open_image(fn):\n",
    "    \"\"\" Modifying fastai's open_image to allow dicom files to be read.\n",
    "    from https://www.kaggle.com/dovgro/fastai-exploration\n",
    "\n",
    "    Returns:\n",
    "        The image in RGB format as numpy array of floats normalized to range between 0.0 - 1.0\n",
    "    \"\"\"\n",
    "    flags = cv2.IMREAD_UNCHANGED+cv2.IMREAD_ANYDEPTH+cv2.IMREAD_ANYCOLOR\n",
    "    if not os.path.exists(fn) and not str(fn).startswith(\"http\"):\n",
    "        raise OSError('No such file or directory: {}'.format(fn))\n",
    "    elif os.path.isdir(fn) and not str(fn).startswith(\"http\"):\n",
    "        raise OSError('Is a directory: {}'.format(fn))\n",
    "    elif isdicom(fn):\n",
    "        slice = pydicom.read_file(fn)\n",
    "        if slice.PhotometricInterpretation.startswith('MONOCHROME'):\n",
    "            # Make a fake RGB image\n",
    "            im = np.stack([slice.pixel_array]*3,-1)\n",
    "            return im / ((1 << slice.BitsStored)-1)\n",
    "        else:\n",
    "            raise OSError('Unsupported DICOM image with PhotometricInterpretation=={}'.format(slice.PhotometricInterpretation))\n",
    "    else:\n",
    "        try:\n",
    "            if str(fn).startswith(\"http\"):\n",
    "                req = urllib.urlopen(str(fn))\n",
    "                image = np.asarray(bytearray(req.read()), dtype=\"uint8\")\n",
    "                im = cv2.imdecode(image, flags).astype(np.float32)/255\n",
    "            else:\n",
    "                im = cv2.imread(str(fn), flags).astype(np.float32)/255\n",
    "            if im is None: raise OSError(f'File not recognized by opencv: {fn}')\n",
    "            return cv2.cvtColor(im, cv2.COLOR_BGR2RGB)\n",
    "        except Exception as e:\n",
    "            raise OSError('Error handling image at: {}'.format(fn)) from e\n",
    "\n",
    "fastai.dataset.isdicom=isdicom\n",
    "fastai.dataset.pydicom=pydicom\n",
    "fastai.dataset.open_image=open_image"
   ]
  },
  {
   "cell_type": "code",
   "execution_count": 142,
   "metadata": {},
   "outputs": [],
   "source": [
    "def hw_bb(row): return np.array([row['y'], row['x'], row['height']+row['y'], row['width']+row['x']])\n",
    "def bb_hw(a): return np.array([a[1],a[0],a[3]-a[1],a[2]-a[0]])\n",
    "\n",
    "def parse_data(df):\n",
    "    \n",
    "    parsed = collections.defaultdict(lambda:{'dicom': None,    \n",
    "        'label': None,\n",
    "        'boxes': []})\n",
    "    for n, row in df.iterrows():\n",
    "        # --- Initialize patient entry into parsed \n",
    "        pid = row['patientId']\n",
    "        parsed[pid]['dicom'] = str(f'{pid}.dcm')\n",
    "        parsed[pid]['label'] = row['Target']\n",
    "        parsed[pid]['boxes'].append(hw_bb(row))\n",
    "\n",
    "    return parsed\n",
    "\n",
    "\n",
    "def get_lrg(b):\n",
    "    if not b: raise Exception()\n",
    "    b = sorted(b, key=lambda x: np.product(x[-2:]-x[:2]), reverse=True)\n",
    "    return [b[0]]\n",
    "\n",
    "\n",
    "def show_img(im, figsize=None, ax=None):\n",
    "    if not ax: fig, ax = plt.subplots(figsize=figsize)\n",
    "    ax.imshow(im)\n",
    "    ax.get_xaxis().set_visible(False)\n",
    "    ax.get_yaxis().set_visible(False)\n",
    "    return ax\n",
    "\n",
    "\n",
    "def draw_outline(o, lw):\n",
    "    o.set_path_effects([patheffects.Stroke(\n",
    "        linewidth=lw, foreground='black'), patheffects.Normal()])\n",
    "    \n",
    "    \n",
    "def draw_rect(ax, b, col = 'white'):\n",
    "    patch = ax.add_patch(patches.Rectangle(b[:2], *b[-2:], fill=False, edgecolor = col, lw=2))\n",
    "    draw_outline(patch,4)\n",
    "    \n",
    "    \n",
    "def draw_text(ax, xy, txt, sz=14, col='white'):\n",
    "    text = ax.text(*xy, txt, verticalalignment='top', color=col, fontsize=sz, weight='bold')\n",
    "    draw_outline(text, 1)\n",
    "    \n",
    "    \n",
    "def draw_im(im, ann, ax=None):\n",
    "    ax = show_img(im, figsize=(16,8), ax =ax)\n",
    "    l = ann['label']\n",
    "    for b in ann['boxes']:\n",
    "        b = bb_hw(b)\n",
    "        draw_rect(ax, b)\n",
    "        draw_text(ax, b[:2], l, sz=16)  \n",
    "        \n",
    "        \n",
    "def draw_idx(i, ax=None):\n",
    "    im_a = parsed_lrg_p[i]\n",
    "    im = open_image('path/to/training/images/'+parsed[i]['dicom'])\n",
    "    draw_im(im, im_a, ax=ax)"
   ]
  },
  {
   "cell_type": "code",
   "execution_count": 143,
   "metadata": {},
   "outputs": [
    {
     "data": {
      "text/html": [
       "<div>\n",
       "<style scoped>\n",
       "    .dataframe tbody tr th:only-of-type {\n",
       "        vertical-align: middle;\n",
       "    }\n",
       "\n",
       "    .dataframe tbody tr th {\n",
       "        vertical-align: top;\n",
       "    }\n",
       "\n",
       "    .dataframe thead th {\n",
       "        text-align: right;\n",
       "    }\n",
       "</style>\n",
       "<table border=\"1\" class=\"dataframe\">\n",
       "  <thead>\n",
       "    <tr style=\"text-align: right;\">\n",
       "      <th></th>\n",
       "      <th>patientId</th>\n",
       "      <th>Target</th>\n",
       "    </tr>\n",
       "  </thead>\n",
       "  <tbody>\n",
       "    <tr>\n",
       "      <th>0</th>\n",
       "      <td>0004cfab-14fd-4e49-80ba-63a80b6bddd6</td>\n",
       "      <td>0</td>\n",
       "    </tr>\n",
       "    <tr>\n",
       "      <th>1</th>\n",
       "      <td>00313ee0-9eaa-42f4-b0ab-c148ed3241cd</td>\n",
       "      <td>0</td>\n",
       "    </tr>\n",
       "    <tr>\n",
       "      <th>2</th>\n",
       "      <td>00322d4d-1c29-4943-afc9-b6754be640eb</td>\n",
       "      <td>0</td>\n",
       "    </tr>\n",
       "    <tr>\n",
       "      <th>3</th>\n",
       "      <td>003d8fa0-6bf1-40ed-b54c-ac657f8495c5</td>\n",
       "      <td>0</td>\n",
       "    </tr>\n",
       "    <tr>\n",
       "      <th>4</th>\n",
       "      <td>00436515-870c-4b36-a041-de91049b9ab4</td>\n",
       "      <td>1</td>\n",
       "    </tr>\n",
       "  </tbody>\n",
       "</table>\n",
       "</div>"
      ],
      "text/plain": [
       "                              patientId  Target\n",
       "0  0004cfab-14fd-4e49-80ba-63a80b6bddd6       0\n",
       "1  00313ee0-9eaa-42f4-b0ab-c148ed3241cd       0\n",
       "2  00322d4d-1c29-4943-afc9-b6754be640eb       0\n",
       "3  003d8fa0-6bf1-40ed-b54c-ac657f8495c5       0\n",
       "4  00436515-870c-4b36-a041-de91049b9ab4       1"
      ]
     },
     "execution_count": 143,
     "metadata": {},
     "output_type": "execute_result"
    }
   ],
   "source": [
    "label_csv = PATH/'stage_2_train_labels.csv'\n",
    "df = pd.read_csv(label_csv)\n",
    "label_df = df.filter(['patientId', 'Target'], )\n",
    "label_df.head()"
   ]
  },
  {
   "cell_type": "code",
   "execution_count": 144,
   "metadata": {},
   "outputs": [
    {
     "data": {
      "text/html": [
       "<div>\n",
       "<style scoped>\n",
       "    .dataframe tbody tr th:only-of-type {\n",
       "        vertical-align: middle;\n",
       "    }\n",
       "\n",
       "    .dataframe tbody tr th {\n",
       "        vertical-align: top;\n",
       "    }\n",
       "\n",
       "    .dataframe thead th {\n",
       "        text-align: right;\n",
       "    }\n",
       "</style>\n",
       "<table border=\"1\" class=\"dataframe\">\n",
       "  <thead>\n",
       "    <tr style=\"text-align: right;\">\n",
       "      <th></th>\n",
       "      <th>patientId</th>\n",
       "      <th>x</th>\n",
       "      <th>y</th>\n",
       "      <th>width</th>\n",
       "      <th>height</th>\n",
       "      <th>Target</th>\n",
       "    </tr>\n",
       "  </thead>\n",
       "  <tbody>\n",
       "    <tr>\n",
       "      <th>0</th>\n",
       "      <td>0004cfab-14fd-4e49-80ba-63a80b6bddd6</td>\n",
       "      <td>NaN</td>\n",
       "      <td>NaN</td>\n",
       "      <td>NaN</td>\n",
       "      <td>NaN</td>\n",
       "      <td>0</td>\n",
       "    </tr>\n",
       "    <tr>\n",
       "      <th>1</th>\n",
       "      <td>00313ee0-9eaa-42f4-b0ab-c148ed3241cd</td>\n",
       "      <td>NaN</td>\n",
       "      <td>NaN</td>\n",
       "      <td>NaN</td>\n",
       "      <td>NaN</td>\n",
       "      <td>0</td>\n",
       "    </tr>\n",
       "    <tr>\n",
       "      <th>2</th>\n",
       "      <td>00322d4d-1c29-4943-afc9-b6754be640eb</td>\n",
       "      <td>NaN</td>\n",
       "      <td>NaN</td>\n",
       "      <td>NaN</td>\n",
       "      <td>NaN</td>\n",
       "      <td>0</td>\n",
       "    </tr>\n",
       "    <tr>\n",
       "      <th>3</th>\n",
       "      <td>003d8fa0-6bf1-40ed-b54c-ac657f8495c5</td>\n",
       "      <td>NaN</td>\n",
       "      <td>NaN</td>\n",
       "      <td>NaN</td>\n",
       "      <td>NaN</td>\n",
       "      <td>0</td>\n",
       "    </tr>\n",
       "    <tr>\n",
       "      <th>4</th>\n",
       "      <td>00436515-870c-4b36-a041-de91049b9ab4</td>\n",
       "      <td>264.0</td>\n",
       "      <td>152.0</td>\n",
       "      <td>213.0</td>\n",
       "      <td>379.0</td>\n",
       "      <td>1</td>\n",
       "    </tr>\n",
       "  </tbody>\n",
       "</table>\n",
       "</div>"
      ],
      "text/plain": [
       "                              patientId      x      y  width  height  Target\n",
       "0  0004cfab-14fd-4e49-80ba-63a80b6bddd6    NaN    NaN    NaN     NaN       0\n",
       "1  00313ee0-9eaa-42f4-b0ab-c148ed3241cd    NaN    NaN    NaN     NaN       0\n",
       "2  00322d4d-1c29-4943-afc9-b6754be640eb    NaN    NaN    NaN     NaN       0\n",
       "3  003d8fa0-6bf1-40ed-b54c-ac657f8495c5    NaN    NaN    NaN     NaN       0\n",
       "4  00436515-870c-4b36-a041-de91049b9ab4  264.0  152.0  213.0   379.0       1"
      ]
     },
     "execution_count": 144,
     "metadata": {},
     "output_type": "execute_result"
    }
   ],
   "source": [
    "df.head()"
   ]
  },
  {
   "cell_type": "code",
   "execution_count": 145,
   "metadata": {},
   "outputs": [
    {
     "data": {
      "text/html": [
       "<div>\n",
       "<style scoped>\n",
       "    .dataframe tbody tr th:only-of-type {\n",
       "        vertical-align: middle;\n",
       "    }\n",
       "\n",
       "    .dataframe tbody tr th {\n",
       "        vertical-align: top;\n",
       "    }\n",
       "\n",
       "    .dataframe thead th {\n",
       "        text-align: right;\n",
       "    }\n",
       "</style>\n",
       "<table border=\"1\" class=\"dataframe\">\n",
       "  <thead>\n",
       "    <tr style=\"text-align: right;\">\n",
       "      <th></th>\n",
       "      <th>patientId</th>\n",
       "      <th>x</th>\n",
       "      <th>y</th>\n",
       "      <th>width</th>\n",
       "      <th>height</th>\n",
       "      <th>Target</th>\n",
       "    </tr>\n",
       "  </thead>\n",
       "  <tbody>\n",
       "    <tr>\n",
       "      <th>0</th>\n",
       "      <td>0004cfab-14fd-4e49-80ba-63a80b6bddd6</td>\n",
       "      <td>0.0</td>\n",
       "      <td>0.0</td>\n",
       "      <td>0.0</td>\n",
       "      <td>0.0</td>\n",
       "      <td>0</td>\n",
       "    </tr>\n",
       "    <tr>\n",
       "      <th>1</th>\n",
       "      <td>00313ee0-9eaa-42f4-b0ab-c148ed3241cd</td>\n",
       "      <td>0.0</td>\n",
       "      <td>0.0</td>\n",
       "      <td>0.0</td>\n",
       "      <td>0.0</td>\n",
       "      <td>0</td>\n",
       "    </tr>\n",
       "    <tr>\n",
       "      <th>2</th>\n",
       "      <td>00322d4d-1c29-4943-afc9-b6754be640eb</td>\n",
       "      <td>0.0</td>\n",
       "      <td>0.0</td>\n",
       "      <td>0.0</td>\n",
       "      <td>0.0</td>\n",
       "      <td>0</td>\n",
       "    </tr>\n",
       "    <tr>\n",
       "      <th>3</th>\n",
       "      <td>003d8fa0-6bf1-40ed-b54c-ac657f8495c5</td>\n",
       "      <td>0.0</td>\n",
       "      <td>0.0</td>\n",
       "      <td>0.0</td>\n",
       "      <td>0.0</td>\n",
       "      <td>0</td>\n",
       "    </tr>\n",
       "    <tr>\n",
       "      <th>4</th>\n",
       "      <td>00436515-870c-4b36-a041-de91049b9ab4</td>\n",
       "      <td>264.0</td>\n",
       "      <td>152.0</td>\n",
       "      <td>213.0</td>\n",
       "      <td>379.0</td>\n",
       "      <td>1</td>\n",
       "    </tr>\n",
       "  </tbody>\n",
       "</table>\n",
       "</div>"
      ],
      "text/plain": [
       "                              patientId      x      y  width  height  Target\n",
       "0  0004cfab-14fd-4e49-80ba-63a80b6bddd6    0.0    0.0    0.0     0.0       0\n",
       "1  00313ee0-9eaa-42f4-b0ab-c148ed3241cd    0.0    0.0    0.0     0.0       0\n",
       "2  00322d4d-1c29-4943-afc9-b6754be640eb    0.0    0.0    0.0     0.0       0\n",
       "3  003d8fa0-6bf1-40ed-b54c-ac657f8495c5    0.0    0.0    0.0     0.0       0\n",
       "4  00436515-870c-4b36-a041-de91049b9ab4  264.0  152.0  213.0   379.0       1"
      ]
     },
     "execution_count": 145,
     "metadata": {},
     "output_type": "execute_result"
    }
   ],
   "source": [
    "df.x.fillna(0, inplace=True)\n",
    "df.y.fillna(0, inplace=True)\n",
    "df.width.fillna(0, inplace=True)\n",
    "df.height.fillna(0, inplace=True)\n",
    "df.head()"
   ]
  },
  {
   "cell_type": "code",
   "execution_count": 146,
   "metadata": {},
   "outputs": [
    {
     "data": {
      "text/plain": [
       "26684"
      ]
     },
     "execution_count": 146,
     "metadata": {},
     "output_type": "execute_result"
    }
   ],
   "source": [
    "parsed = parse_data(df)\n",
    "len(parsed)"
   ]
  },
  {
   "cell_type": "code",
   "execution_count": 147,
   "metadata": {},
   "outputs": [],
   "source": [
    "cats = {'0': 'normal', '1': 'pneumonia'}"
   ]
  },
  {
   "cell_type": "code",
   "execution_count": 148,
   "metadata": {},
   "outputs": [],
   "source": [
    "parsed_lrg = {a: {'dicom': b['dicom'],\n",
    "                  'label': b['label'],\n",
    "                  'boxes': get_lrg(b['boxes'])} for a, b in parsed.items()}"
   ]
  },
  {
   "cell_type": "code",
   "execution_count": 150,
   "metadata": {},
   "outputs": [
    {
     "data": {
      "text/plain": [
       "{'dicom': '00436515-870c-4b36-a041-de91049b9ab4.dcm',\n",
       " 'boxes': [array([152., 562., 605., 818.])]}"
      ]
     },
     "execution_count": 150,
     "metadata": {},
     "output_type": "execute_result"
    }
   ],
   "source": [
    "parsed_lrg[\"00436515-870c-4b36-a041-de91049b9ab4\"]"
   ]
  },
  {
   "cell_type": "code",
   "execution_count": 152,
   "metadata": {},
   "outputs": [],
   "source": [
    "(PATH/'tmp').mkdir(exist_ok=True)\n",
    "CSV = PATH/'tmp/lrg.csv'\n",
    "BB_CSV = PATH/'tmp/bb.csv'"
   ]
  },
  {
   "cell_type": "code",
   "execution_count": 153,
   "metadata": {},
   "outputs": [],
   "source": [
    "df = pd.DataFrame({'fn': [parsed_lrg[o]['dicom'] for o in parsed_lrg],\n",
    "                   'cat': [parsed_lrg[o]['label'] for o in parsed_lrg],\n",
    "                   'bbox': [' '.join(str(int(p)) for p in parsed_lrg[o]['boxes'][0]) for o in parsed_lrg]})"
   ]
  },
  {
   "cell_type": "code",
   "execution_count": 154,
   "metadata": {},
   "outputs": [
    {
     "data": {
      "text/html": [
       "<div>\n",
       "<style scoped>\n",
       "    .dataframe tbody tr th:only-of-type {\n",
       "        vertical-align: middle;\n",
       "    }\n",
       "\n",
       "    .dataframe tbody tr th {\n",
       "        vertical-align: top;\n",
       "    }\n",
       "\n",
       "    .dataframe thead th {\n",
       "        text-align: right;\n",
       "    }\n",
       "</style>\n",
       "<table border=\"1\" class=\"dataframe\">\n",
       "  <thead>\n",
       "    <tr style=\"text-align: right;\">\n",
       "      <th></th>\n",
       "      <th>fn</th>\n",
       "      <th>cat</th>\n",
       "      <th>bbox</th>\n",
       "    </tr>\n",
       "  </thead>\n",
       "  <tbody>\n",
       "    <tr>\n",
       "      <th>0</th>\n",
       "      <td>0004cfab-14fd-4e49-80ba-63a80b6bddd6.dcm</td>\n",
       "      <td>0</td>\n",
       "      <td>0 0 0 0</td>\n",
       "    </tr>\n",
       "    <tr>\n",
       "      <th>1</th>\n",
       "      <td>00313ee0-9eaa-42f4-b0ab-c148ed3241cd.dcm</td>\n",
       "      <td>0</td>\n",
       "      <td>0 0 0 0</td>\n",
       "    </tr>\n",
       "    <tr>\n",
       "      <th>2</th>\n",
       "      <td>00322d4d-1c29-4943-afc9-b6754be640eb.dcm</td>\n",
       "      <td>0</td>\n",
       "      <td>0 0 0 0</td>\n",
       "    </tr>\n",
       "    <tr>\n",
       "      <th>3</th>\n",
       "      <td>003d8fa0-6bf1-40ed-b54c-ac657f8495c5.dcm</td>\n",
       "      <td>0</td>\n",
       "      <td>0 0 0 0</td>\n",
       "    </tr>\n",
       "    <tr>\n",
       "      <th>4</th>\n",
       "      <td>00436515-870c-4b36-a041-de91049b9ab4.dcm</td>\n",
       "      <td>1</td>\n",
       "      <td>152 562 605 818</td>\n",
       "    </tr>\n",
       "  </tbody>\n",
       "</table>\n",
       "</div>"
      ],
      "text/plain": [
       "                                         fn  cat             bbox\n",
       "0  0004cfab-14fd-4e49-80ba-63a80b6bddd6.dcm    0          0 0 0 0\n",
       "1  00313ee0-9eaa-42f4-b0ab-c148ed3241cd.dcm    0          0 0 0 0\n",
       "2  00322d4d-1c29-4943-afc9-b6754be640eb.dcm    0          0 0 0 0\n",
       "3  003d8fa0-6bf1-40ed-b54c-ac657f8495c5.dcm    0          0 0 0 0\n",
       "4  00436515-870c-4b36-a041-de91049b9ab4.dcm    1  152 562 605 818"
      ]
     },
     "execution_count": 154,
     "metadata": {},
     "output_type": "execute_result"
    }
   ],
   "source": [
    "df.head()"
   ]
  },
  {
   "cell_type": "code",
   "execution_count": 155,
   "metadata": {},
   "outputs": [],
   "source": [
    "df[['fn', 'cat']].to_csv(CSV, index=False)\n",
    "df[['fn', 'bbox']].to_csv(BB_CSV, index=False)"
   ]
  },
  {
   "cell_type": "markdown",
   "metadata": {},
   "source": [
    "## Classification and BBoxes"
   ]
  },
  {
   "cell_type": "code",
   "execution_count": 157,
   "metadata": {},
   "outputs": [],
   "source": [
    "f_model = resnet34\n",
    "sz=224\n",
    "bs=64"
   ]
  },
  {
   "cell_type": "code",
   "execution_count": 158,
   "metadata": {},
   "outputs": [],
   "source": [
    "tfm_y = TfmType.COORD\n",
    "augs = [RandomFlip(tfm_y=tfm_y),\n",
    "        RandomRotate(3, p=0.5, tfm_y=tfm_y),\n",
    "        RandomLighting(0.05,0.05, tfm_y=tfm_y)]\n",
    "\n",
    "tfms = tfms_from_model(f_model, sz, crop_type=CropType.NO, tfm_y=tfm_y, aug_tfms=augs)"
   ]
  },
  {
   "cell_type": "code",
   "execution_count": 159,
   "metadata": {},
   "outputs": [],
   "source": [
    "val_idxs = get_cv_idxs(len(df))"
   ]
  },
  {
   "cell_type": "code",
   "execution_count": 160,
   "metadata": {},
   "outputs": [],
   "source": [
    "md = ImageClassifierData.from_csv(PATH, 'stage_2_train_images', BB_CSV, tfms=tfms, bs=bs, continuous=True, val_idxs=val_idxs)"
   ]
  },
  {
   "cell_type": "code",
   "execution_count": 161,
   "metadata": {},
   "outputs": [],
   "source": [
    "md2 = ImageClassifierData.from_csv(PATH, 'stage_2_train_images', CSV, tfms=tfms_from_model(f_model, sz), bs=bs)"
   ]
  },
  {
   "cell_type": "code",
   "execution_count": 162,
   "metadata": {},
   "outputs": [],
   "source": [
    "class ObjDetDataset(Dataset):\n",
    "    def __init__(self, ds, y2): \n",
    "        self.ds = ds \n",
    "        self.y2 = y2\n",
    "    \n",
    "    def __len__(self): return len(self.ds)\n",
    "    \n",
    "    def __getitem__(self, i):\n",
    "        x, y = self.ds[i]\n",
    "        return (x, (y, self.y2[i]))"
   ]
  },
  {
   "cell_type": "code",
   "execution_count": 163,
   "metadata": {},
   "outputs": [],
   "source": [
    "trn_ds = ObjDetDataset(md.trn_ds, md2.trn_y)\n",
    "val_ds = ObjDetDataset(md.val_ds, md2.val_y)"
   ]
  },
  {
   "cell_type": "code",
   "execution_count": 173,
   "metadata": {},
   "outputs": [
    {
     "data": {
      "text/plain": [
       "(array([ 32., 121., 129., 175.], dtype=float32), 1)"
      ]
     },
     "execution_count": 173,
     "metadata": {},
     "output_type": "execute_result"
    }
   ],
   "source": [
    "trn_ds[4][1]"
   ]
  },
  {
   "cell_type": "code",
   "execution_count": 165,
   "metadata": {},
   "outputs": [],
   "source": [
    "md.trn_dl.dataset = trn_ds\n",
    "md.val_dl.dataset = val_ds"
   ]
  },
  {
   "cell_type": "code",
   "execution_count": 166,
   "metadata": {},
   "outputs": [
    {
     "data": {
      "text/plain": [
       "array([0., 0., 0., 0.], dtype=float32)"
      ]
     },
     "execution_count": 166,
     "metadata": {},
     "output_type": "execute_result"
    }
   ],
   "source": [
    "x,y=next(iter(md.val_dl))\n",
    "idx=0\n",
    "ima=md.val_ds.ds.denorm(to_np(x))[idx]\n",
    "b = bb_hw(to_np(y[0][idx])); b"
   ]
  },
  {
   "cell_type": "code",
   "execution_count": 174,
   "metadata": {},
   "outputs": [
    {
     "data": {
      "text/plain": [
       "21348"
      ]
     },
     "execution_count": 174,
     "metadata": {},
     "output_type": "execute_result"
    }
   ],
   "source": [
    "len(md.trn_ds)\n"
   ]
  },
  {
   "cell_type": "code",
   "execution_count": 34,
   "metadata": {},
   "outputs": [
    {
     "data": {
      "image/png": "[encoded data removed]",
      "text/plain": [
       "<Figure size 432x288 with 1 Axes>"
      ]
     },
     "metadata": {
      "needs_background": "light"
     },
     "output_type": "display_data"
    }
   ],
   "source": [
    "ax = show_img(ima)\n",
    "draw_rect(ax, b)\n",
    "draw_text(ax, b[:2], md2.classes[y[1][idx]])"
   ]
  },
  {
   "cell_type": "code",
   "execution_count": 175,
   "metadata": {},
   "outputs": [],
   "source": [
    "custom_head_clasreg = nn.Sequential(\n",
    "    Flatten(),\n",
    "    nn.ReLU(),\n",
    "    nn.Dropout(0.5),\n",
    "    nn.Linear(25088,256),\n",
    "    nn.ReLU(),\n",
    "    nn.BatchNorm1d(256),\n",
    "    nn.Dropout(0.5),\n",
    "    nn.Linear(256,4+len(cats)),\n",
    ")\n",
    "models = ConvnetBuilder(f_model, 0, 0, 0, custom_head=custom_head_clasreg)\n",
    "\n"
   ]
  },
  {
   "cell_type": "code",
   "execution_count": 176,
   "metadata": {},
   "outputs": [],
   "source": [
    "learn = ConvLearner(md, models)\n",
    "learn.opt_fn = optim.Adam"
   ]
  },
  {
   "cell_type": "code",
   "execution_count": 36,
   "metadata": {},
   "outputs": [],
   "source": [
    "x, y = next(iter(md.trn_dl))"
   ]
  },
  {
   "cell_type": "code",
   "execution_count": 37,
   "metadata": {},
   "outputs": [
    {
     "data": {
      "text/plain": [
       "torch.Size([64, 3, 224, 224])"
      ]
     },
     "execution_count": 37,
     "metadata": {},
     "output_type": "execute_result"
    }
   ],
   "source": [
    "x.shape"
   ]
  },
  {
   "cell_type": "code",
   "execution_count": null,
   "metadata": {},
   "outputs": [],
   "source": [
    "ratios = []\n",
    "\n",
    "for i in range(200):\n",
    "    x, y = next(iter(md_box.trn_dl))\n",
    "    t = learn.model(V(x))\n",
    "    \n",
    "    bb_t,c_t = y\n",
    "    bb_i,c_i = t[:, :4], t[:, 4:]\n",
    "    bb_i = F.sigmoid(bb_i)*sz\n",
    "    \n",
    "    reg = F.l1_loss(bb_i, V(bb_t)).data.cpu().numpy()\n",
    "    clas = F.cross_entropy(c_i, V(c_t)).data.cpu().numpy()\n",
    "    ratios.append((reg/clas)[0])"
   ]
  },
  {
   "cell_type": "code",
   "execution_count": 193,
   "metadata": {},
   "outputs": [],
   "source": [
    "scalar = int(np.mean(ratios))\n"
   ]
  },
  {
   "cell_type": "code",
   "execution_count": 178,
   "metadata": {},
   "outputs": [],
   "source": [
    "def binary_loss(y,p):\n",
    "    return np.mean(-(y*np.log(p)+(1-y)*np.log(1-p)))\n",
    "\n",
    "\n",
    "def detn_loss(input, target):\n",
    "    bb_t,c_t = target\n",
    "    bb_i,c_i = input[:, :4], input[:, 4:]\n",
    "    bb_i = F.sigmoid(bb_i)*224\n",
    "\n",
    "    return F.l1_loss(bb_i, bb_t) + F.cross_entropy(c_i, c_t, ignore_index = -1)*scalar\n",
    "\n",
    "\n",
    "def detn_l1(input, target):\n",
    "    bb_t,_ = target\n",
    "    bb_i = input[:, :4]\n",
    "    bb_i = F.sigmoid(bb_i)*224\n",
    "    return F.l1_loss(V(bb_i),V(bb_t)).data\n",
    "\n",
    "\n",
    "def detn_acc(input, target):\n",
    "    _,c_t = target\n",
    "    c_i = input[:, 4:]\n",
    "    return accuracy(c_i, c_t)\n",
    "\n",
    "learn.crit = detn_loss\n",
    "learn.metrics = [detn_acc, detn_l1]"
   ]
  },
  {
   "cell_type": "code",
   "execution_count": 121,
   "metadata": {},
   "outputs": [
    {
     "data": {
      "application/vnd.jupyter.widget-view+json": {
       "model_id": "0665051aa3584015a3f67ba045208d2b",
       "version_major": 2,
       "version_minor": 0
      },
      "text/plain": [
       "HBox(children=(IntProgress(value=0, description='Epoch', max=1, style=ProgressStyle(description_width='initial…"
      ]
     },
     "metadata": {},
     "output_type": "display_data"
    },
    {
     "name": "stdout",
     "output_type": "stream",
     "text": [
      " 79%|███████▊  | 263/334 [10:23<02:44,  2.32s/it, loss=592]"
     ]
    },
    {
     "data": {
      "image/png": "[encoded data removed]",
      "text/plain": [
       "<Figure size 432x288 with 1 Axes>"
      ]
     },
     "metadata": {
      "needs_background": "light"
     },
     "output_type": "display_data"
    }
   ],
   "source": [
    "learn.lr_find()\n",
    "learn.sched.plot()"
   ]
  },
  {
   "cell_type": "code",
   "execution_count": 122,
   "metadata": {},
   "outputs": [],
   "source": [
    "lr = 2e-2"
   ]
  },
  {
   "cell_type": "code",
   "execution_count": 123,
   "metadata": {},
   "outputs": [
    {
     "data": {
      "application/vnd.jupyter.widget-view+json": {
       "model_id": "aabecaae10d2416d84448e06b6f3bb8c",
       "version_major": 2,
       "version_minor": 0
      },
      "text/plain": [
       "HBox(children=(IntProgress(value=0, description='Epoch', max=3, style=ProgressStyle(description_width='initial…"
      ]
     },
     "metadata": {},
     "output_type": "display_data"
    },
    {
     "name": "stdout",
     "output_type": "stream",
     "text": [
      "epoch      trn_loss   val_loss   detn_acc   detn_l1    \n",
      "    0      76.400633  74.645138  0.802474   25.202412 \n",
      "    1      73.612387  72.431222  0.814468   24.273894 \n",
      "    2      71.363734  71.781689  0.814468   24.109807 \n"
     ]
    },
    {
     "data": {
      "text/plain": [
       "[array([71.78169]), 0.8144677662063038, 24.109806515466328]"
      ]
     },
     "execution_count": 123,
     "metadata": {},
     "output_type": "execute_result"
    }
   ],
   "source": [
    "learn.fit(lr, 1, cycle_len=3,use_clr=(32,5))"
   ]
  },
  {
   "cell_type": "code",
   "execution_count": 124,
   "metadata": {},
   "outputs": [],
   "source": [
    "learn.save('bbclassdef')"
   ]
  },
  {
   "cell_type": "code",
   "execution_count": 125,
   "metadata": {},
   "outputs": [],
   "source": [
    "learn.freeze_to(-2)"
   ]
  },
  {
   "cell_type": "code",
   "execution_count": 126,
   "metadata": {},
   "outputs": [],
   "source": [
    "lrs = np.array([lr/100,lr/10,lr])"
   ]
  },
  {
   "cell_type": "code",
   "execution_count": 127,
   "metadata": {
    "scrolled": true
   },
   "outputs": [
    {
     "data": {
      "application/vnd.jupyter.widget-view+json": {
       "model_id": "5d473fd60c264164a49d580273873213",
       "version_major": 2,
       "version_minor": 0
      },
      "text/plain": [
       "HBox(children=(IntProgress(value=0, description='Epoch', max=1, style=ProgressStyle(description_width='initial…"
      ]
     },
     "metadata": {},
     "output_type": "display_data"
    },
    {
     "name": "stdout",
     "output_type": "stream",
     "text": [
      " 75%|███████▌  | 252/334 [10:33<03:34,  2.61s/it, loss=313]"
     ]
    },
    {
     "data": {
      "image/png": "[encoded data removed]",
      "text/plain": [
       "<Figure size 432x288 with 1 Axes>"
      ]
     },
     "metadata": {
      "needs_background": "light"
     },
     "output_type": "display_data"
    }
   ],
   "source": [
    "learn.lr_find(lrs/1000)\n",
    "learn.sched.plot(0)"
   ]
  },
  {
   "cell_type": "code",
   "execution_count": 128,
   "metadata": {},
   "outputs": [],
   "source": [
    "lr = 1e-5"
   ]
  },
  {
   "cell_type": "code",
   "execution_count": 129,
   "metadata": {},
   "outputs": [
    {
     "data": {
      "application/vnd.jupyter.widget-view+json": {
       "model_id": "4175d9e67d4b479480bfa0ce35f27f80",
       "version_major": 2,
       "version_minor": 0
      },
      "text/plain": [
       "HBox(children=(IntProgress(value=0, description='Epoch', max=3, style=ProgressStyle(description_width='initial…"
      ]
     },
     "metadata": {},
     "output_type": "display_data"
    },
    {
     "name": "stdout",
     "output_type": "stream",
     "text": [
      "epoch      trn_loss   val_loss   detn_acc   detn_l1    \n",
      "    0      65.522504  66.166635  0.836394   22.672077 \n",
      "    1      62.259124  65.842408  0.83527    22.166461 \n",
      "    2      54.659651  66.040439  0.836582   21.647584 \n"
     ]
    },
    {
     "data": {
      "text/plain": [
       "[array([66.04044]), 0.836581709056065, 21.647583881418207]"
      ]
     },
     "execution_count": 129,
     "metadata": {},
     "output_type": "execute_result"
    }
   ],
   "source": [
    "learn.fit(lrs/10, 1, cycle_len=3,use_clr=(32,10))\n",
    "\n"
   ]
  },
  {
   "cell_type": "code",
   "execution_count": 130,
   "metadata": {},
   "outputs": [],
   "source": [
    " learn.save('bbclassdef1')"
   ]
  },
  {
   "cell_type": "code",
   "execution_count": 158,
   "metadata": {},
   "outputs": [],
   "source": [
    "learn.load('bbclassdef1')"
   ]
  },
  {
   "cell_type": "code",
   "execution_count": 133,
   "metadata": {},
   "outputs": [],
   "source": [
    "learn.unfreeze()\n"
   ]
  },
  {
   "cell_type": "code",
   "execution_count": 134,
   "metadata": {},
   "outputs": [
    {
     "data": {
      "application/vnd.jupyter.widget-view+json": {
       "model_id": "9ccb2da6538943a2a46707ae096e3ce9",
       "version_major": 2,
       "version_minor": 0
      },
      "text/plain": [
       "HBox(children=(IntProgress(value=0, description='Epoch', max=3, style=ProgressStyle(description_width='initial…"
      ]
     },
     "metadata": {},
     "output_type": "display_data"
    },
    {
     "name": "stdout",
     "output_type": "stream",
     "text": [
      "epoch      trn_loss   val_loss   detn_acc   detn_l1    \n",
      "    0      61.159502  69.068207  0.826462   22.984288 \n",
      "    1      55.736856  66.159629  0.839393   21.449412 \n",
      "    2      45.0101    70.493674  0.835645   21.431831 \n"
     ]
    },
    {
     "data": {
      "text/plain": [
       "[array([70.49367]), 0.8356446775718072, 21.43183136415267]"
      ]
     },
     "execution_count": 134,
     "metadata": {},
     "output_type": "execute_result"
    }
   ],
   "source": [
    "learn.fit(lrs/10, 1, cycle_len=3,use_clr=(32,10))"
   ]
  },
  {
   "cell_type": "code",
   "execution_count": 135,
   "metadata": {},
   "outputs": [],
   "source": [
    " learn.save('bbclassdef2')"
   ]
  },
  {
   "cell_type": "code",
   "execution_count": 179,
   "metadata": {},
   "outputs": [],
   "source": [
    "learn.load('bbclassdef2')"
   ]
  },
  {
   "cell_type": "code",
   "execution_count": 180,
   "metadata": {},
   "outputs": [],
   "source": [
    "y = learn.predict()\n",
    "x,_ = next(iter(md.val_dl))"
   ]
  },
  {
   "cell_type": "code",
   "execution_count": 184,
   "metadata": {},
   "outputs": [],
   "source": [
    "from scipy.special import expit\n",
    "i=0"
   ]
  },
  {
   "cell_type": "code",
   "execution_count": 185,
   "metadata": {},
   "outputs": [
    {
     "data": {
      "image/png": "[encoded data removed]",
      "text/plain": [
       "<Figure size 864x576 with 64 Axes>"
      ]
     },
     "metadata": {
      "needs_background": "light"
     },
     "output_type": "display_data"
    }
   ],
   "source": [
    "fig, axes = plt.subplots(8, 8, figsize=(12, 8))\n",
    "for i,ax in enumerate(axes.flat):\n",
    "    ima=md.val_ds.ds.denorm(to_np(x))[i]\n",
    "    bb = expit(y[i][:4])*224\n",
    "    b = bb_hw(bb)\n",
    "    tb = bb_hw(to_np(_[0][i])); b\n",
    "    c = np.argmax(y[i][4:])\n",
    "    ax = show_img(ima, ax=ax)\n",
    "    draw_rect(ax, b)\n",
    "    draw_rect(ax, tb, col ='blue')\n",
    "    draw_text(ax, b[:2], md2.classes[c])\n",
    "    draw_text(ax, b[:2], md2.classes[c])\n",
    "plt.tight_layout()"
   ]
  },
  {
   "cell_type": "code",
   "execution_count": 164,
   "metadata": {},
   "outputs": [],
   "source": [
    "learn.unfreeze()"
   ]
  },
  {
   "cell_type": "markdown",
   "metadata": {},
   "source": [
    "Did some more training just in case. But val_loss increased after this"
   ]
  },
  {
   "cell_type": "code",
   "execution_count": 165,
   "metadata": {},
   "outputs": [
    {
     "data": {
      "application/vnd.jupyter.widget-view+json": {
       "model_id": "2444c5af460d408993ed775fef2f709e",
       "version_major": 2,
       "version_minor": 0
      },
      "text/plain": [
       "HBox(children=(IntProgress(value=0, description='Epoch', max=10, style=ProgressStyle(description_width='initia…"
      ]
     },
     "metadata": {},
     "output_type": "display_data"
    },
    {
     "name": "stdout",
     "output_type": "stream",
     "text": [
      "epoch      trn_loss   val_loss   detn_acc   detn_l1    \n",
      "    0      50.541049  73.378725  0.81578    23.367799 \n",
      "    1      50.02635   73.96895   0.833771   22.025275 \n",
      "    2      47.780924  74.554787  0.837706   21.42017  \n",
      "    3      38.985795  80.579645  0.830772   22.136065 \n",
      "    4      32.697614  84.2029    0.811094   23.639495 \n",
      "    5      26.411842  91.474886  0.828523   22.192615 \n",
      "    6      21.257356  94.767213  0.821214   23.459626 \n",
      "    7      14.046738  104.523792 0.827399   22.106103 \n",
      "    8      14.112857  106.99334  0.832834   22.339573 \n",
      "    9      10.34669   109.668494 0.83096    21.902419 \n"
     ]
    },
    {
     "data": {
      "text/plain": [
       "[array([109.66849]), 0.8309595201505178, 21.902418605569956]"
      ]
     },
     "execution_count": 165,
     "metadata": {},
     "output_type": "execute_result"
    }
   ],
   "source": [
    "learn.fit(lrs/10, 1, cycle_len=10, use_clr=(32,10))"
   ]
  },
  {
   "cell_type": "code",
   "execution_count": 198,
   "metadata": {},
   "outputs": [],
   "source": [
    "y = learn.predict()\n",
    "x,_ = next(iter(md.val_ds))"
   ]
  },
  {
   "cell_type": "code",
   "execution_count": 203,
   "metadata": {},
   "outputs": [
    {
     "data": {
      "text/plain": [
       "5336"
      ]
     },
     "execution_count": 203,
     "metadata": {},
     "output_type": "execute_result"
    }
   ],
   "source": [
    "len(y)"
   ]
  },
  {
   "cell_type": "code",
   "execution_count": 52,
   "metadata": {},
   "outputs": [],
   "source": [
    "from scipy.special import expit"
   ]
  },
  {
   "cell_type": "code",
   "execution_count": 138,
   "metadata": {},
   "outputs": [],
   "source": [
    "pred = learn.predict_array(im[None]);\n",
    "preds = np.argmax(pred,-1)"
   ]
  },
  {
   "cell_type": "code",
   "execution_count": 256,
   "metadata": {},
   "outputs": [],
   "source": [
    "def iou(box1, box2):\n",
    "    x11, y11, w1, h1 = box1\n",
    "    x21, y21, w2, h2 = box2\n",
    "    assert w1 * h1 >= 0\n",
    "    assert w2 * h2 >= 0\n",
    "    x12, y12 = x11 + w1, y11 + h1\n",
    "    x22, y22 = x21 + w2, y21 + h2\n",
    "\n",
    "    area1, area2 = w1 * h1, w2 * h2\n",
    "    xi1, yi1, xi2, yi2 = max([x11, x21]), max([y11, y21]), min([x12, x22]), min([y12, y22])\n",
    "    \n",
    "    if xi2 <= xi1 or yi2 <= yi1:\n",
    "        return 0\n",
    "    else:\n",
    "        intersect = (xi2-xi1) * (yi2-yi1)\n",
    "        union = area1 + area2 - intersect\n",
    "        return intersect / union\n",
    "    "
   ]
  },
  {
   "cell_type": "code",
   "execution_count": null,
   "metadata": {},
   "outputs": [],
   "source": [
    "iou"
   ]
  },
  {
   "cell_type": "code",
   "execution_count": 187,
   "metadata": {},
   "outputs": [
    {
     "data": {
      "text/plain": [
       "5336"
      ]
     },
     "execution_count": 187,
     "metadata": {},
     "output_type": "execute_result"
    }
   ],
   "source": [
    "len(md.val_ds)"
   ]
  },
  {
   "cell_type": "code",
   "execution_count": 210,
   "metadata": {},
   "outputs": [],
   "source": [
    "positive_boxes = []"
   ]
  },
  {
   "cell_type": "code",
   "execution_count": 211,
   "metadata": {},
   "outputs": [],
   "source": [
    "for i in range(len(md.val_ds)):\n",
    "    if md.val_ds[i][1][1] == 1:\n",
    "        positive_boxes.append(md.val_ds[i][1][0])"
   ]
  },
  {
   "cell_type": "code",
   "execution_count": 212,
   "metadata": {},
   "outputs": [
    {
     "data": {
      "text/plain": [
       "[array([ 91., 154., 106., 171.], dtype=float32),\n",
       " array([ 91.,  50., 111.,  69.], dtype=float32),\n",
       " array([122., 166., 217., 213.], dtype=float32),\n",
       " array([ 84., 146., 154., 175.], dtype=float32),\n",
       " array([ 46., 163.,  86., 184.], dtype=float32),\n",
       " array([ 74., 152., 114., 180.], dtype=float32),\n",
       " array([ 83., 142., 102., 183.], dtype=float32),\n",
       " array([118., 140., 147., 174.], dtype=float32),\n",
       " array([108.,  65., 141.,  90.], dtype=float32),\n",
       " array([ 51.,  40., 179., 116.], dtype=float32),\n",
       " array([ 33.,  30., 178.,  96.], dtype=float32),\n",
       " array([ 69., 139., 135., 185.], dtype=float32),\n",
       " array([ 91.,  20., 133.,  70.], dtype=float32),\n",
       " array([ 50., 119., 126., 190.], dtype=float32),\n",
       " array([111.,  26., 168.,  72.], dtype=float32),\n",
       " array([ 53., 107., 163., 174.], dtype=float32),\n",
       " array([ 55.,  35., 155.,  91.], dtype=float32),\n",
       " array([113., 134., 183., 218.], dtype=float32),\n",
       " array([ 42.,  49., 187., 119.], dtype=float32),\n",
       " array([ 99.,  70., 127., 107.], dtype=float32),\n",
       " array([ 41.,  58., 156., 116.], dtype=float32),\n",
       " array([ 32., 116., 168., 176.], dtype=float32),\n",
       " array([120.,  62., 194., 138.], dtype=float32),\n",
       " array([ 42., 128., 180., 194.], dtype=float32),\n",
       " array([ 46.,  40., 175., 114.], dtype=float32),\n",
       " array([ 74., 128., 130., 200.], dtype=float32),\n",
       " array([ 72., 142., 139., 197.], dtype=float32),\n",
       " array([ 30.,  44., 171., 103.], dtype=float32),\n",
       " array([ 41., 101., 203., 171.], dtype=float32),\n",
       " array([112., 138., 165., 182.], dtype=float32),\n",
       " array([ 75., 134., 159., 193.], dtype=float32),\n",
       " array([ 95.,  77., 131., 104.], dtype=float32),\n",
       " array([ 63.,  18., 186.,  75.], dtype=float32),\n",
       " array([63., 45., 94., 68.], dtype=float32),\n",
       " array([101.,  37., 159.,  76.], dtype=float32),\n",
       " array([114., 139., 167., 172.], dtype=float32),\n",
       " array([ 29., 107., 169., 192.], dtype=float32),\n",
       " array([106., 141., 164., 182.], dtype=float32),\n",
       " array([ 47.,  22., 129.,  69.], dtype=float32),\n",
       " array([ 61., 135., 129., 206.], dtype=float32),\n",
       " array([ 51., 121., 137., 175.], dtype=float32),\n",
       " array([ 84., 119., 139., 177.], dtype=float32),\n",
       " array([ 50., 140., 189., 196.], dtype=float32),\n",
       " array([24., 51., 74., 95.], dtype=float32),\n",
       " array([ 46., 121., 103., 165.], dtype=float32),\n",
       " array([ 70.,  43., 181., 103.], dtype=float32),\n",
       " array([ 94., 130., 189., 207.], dtype=float32),\n",
       " array([136., 145., 173., 188.], dtype=float32),\n",
       " array([ 95., 139., 152., 214.], dtype=float32),\n",
       " array([105.,  31., 191.,  96.], dtype=float32),\n",
       " array([65., 85., 90., 98.], dtype=float32),\n",
       " array([100., 141., 131., 166.], dtype=float32),\n",
       " array([107.,  57., 119.,  89.], dtype=float32),\n",
       " array([ 71.,  35., 150.,  72.], dtype=float32),\n",
       " array([138., 161., 167., 184.], dtype=float32),\n",
       " array([126.,  77., 177., 116.], dtype=float32),\n",
       " array([118.,  37., 177.,  64.], dtype=float32),\n",
       " array([ 62.,  95., 196., 154.], dtype=float32),\n",
       " array([ 95., 125., 134., 182.], dtype=float32),\n",
       " array([ 55.,  41., 117.,  78.], dtype=float32),\n",
       " array([ 96., 144., 145., 186.], dtype=float32),\n",
       " array([ 72., 123., 155., 160.], dtype=float32),\n",
       " array([ 49., 139., 149., 184.], dtype=float32),\n",
       " array([ 76., 148., 128., 198.], dtype=float32),\n",
       " array([ 99.,  64., 156.,  96.], dtype=float32),\n",
       " array([ 88., 147., 162., 187.], dtype=float32),\n",
       " array([ 69., 168.,  93., 189.], dtype=float32),\n",
       " array([111.,  49., 144.,  79.], dtype=float32),\n",
       " array([140.,  59., 178.,  89.], dtype=float32),\n",
       " array([ 94.,  63., 145., 102.], dtype=float32),\n",
       " array([ 96.,  33., 158.,  87.], dtype=float32),\n",
       " array([131.,  48., 160.,  84.], dtype=float32),\n",
       " array([ 28., 111., 187., 171.], dtype=float32),\n",
       " array([ 39., 131., 155., 193.], dtype=float32),\n",
       " array([ 62.,  51., 124., 105.], dtype=float32),\n",
       " array([ 64., 160., 186., 215.], dtype=float32),\n",
       " array([ 82., 119., 159., 175.], dtype=float32),\n",
       " array([ 54., 110., 198., 159.], dtype=float32),\n",
       " array([ 38., 148.,  95., 196.], dtype=float32),\n",
       " array([ 62.,  38., 159.,  94.], dtype=float32),\n",
       " array([ 40.,  32., 121.,  80.], dtype=float32),\n",
       " array([ 38., 122., 120., 176.], dtype=float32),\n",
       " array([ 92.,  34., 141.,  91.], dtype=float32),\n",
       " array([105.,  37., 163.,  90.], dtype=float32),\n",
       " array([ 69., 143., 161., 193.], dtype=float32),\n",
       " array([ 58., 112., 205., 198.], dtype=float32),\n",
       " array([144., 151., 193., 189.], dtype=float32),\n",
       " array([ 46., 118., 175., 175.], dtype=float32),\n",
       " array([116., 114., 183., 177.], dtype=float32),\n",
       " array([ 25.,  23., 109.,  74.], dtype=float32),\n",
       " array([ 57., 131., 120., 178.], dtype=float32),\n",
       " array([ 74.,  28., 150.,  74.], dtype=float32),\n",
       " array([ 68., 122., 204., 189.], dtype=float32),\n",
       " array([ 30.,  79.,  89., 119.], dtype=float32),\n",
       " array([105., 128., 151., 192.], dtype=float32),\n",
       " array([108., 154., 170., 195.], dtype=float32),\n",
       " array([27., 73., 57., 97.], dtype=float32),\n",
       " array([100., 120., 152., 147.], dtype=float32),\n",
       " array([146., 147., 169., 184.], dtype=float32),\n",
       " array([ 54., 134., 163., 171.], dtype=float32),\n",
       " array([101., 148., 121., 183.], dtype=float32),\n",
       " array([ 46., 139.,  96., 203.], dtype=float32),\n",
       " array([114., 141., 168., 165.], dtype=float32),\n",
       " array([108., 152., 149., 197.], dtype=float32),\n",
       " array([128.,  49., 158.,  77.], dtype=float32),\n",
       " array([142., 121., 180., 162.], dtype=float32),\n",
       " array([ 86., 129., 140., 195.], dtype=float32),\n",
       " array([ 61., 137., 156., 180.], dtype=float32),\n",
       " array([110.,  49., 203.,  86.], dtype=float32),\n",
       " array([ 62., 122., 159., 185.], dtype=float32),\n",
       " array([136., 118., 169., 161.], dtype=float32),\n",
       " array([35., 36., 71., 89.], dtype=float32),\n",
       " array([81., 64., 98., 85.], dtype=float32),\n",
       " array([ 52., 134., 138., 175.], dtype=float32),\n",
       " array([129., 117., 147., 167.], dtype=float32),\n",
       " array([ 60., 119., 136., 163.], dtype=float32),\n",
       " array([ 82.,  77., 150., 111.], dtype=float32),\n",
       " array([ 64., 129., 151., 166.], dtype=float32),\n",
       " array([134., 137., 152., 164.], dtype=float32),\n",
       " array([128.,  37., 170.,  80.], dtype=float32),\n",
       " array([ 72.,  51., 134.,  91.], dtype=float32),\n",
       " array([140., 134., 192., 169.], dtype=float32),\n",
       " array([114.,  67., 165., 104.], dtype=float32),\n",
       " array([107., 123., 147., 171.], dtype=float32),\n",
       " array([ 64.,  63., 114.,  94.], dtype=float32),\n",
       " array([ 66., 116., 108., 156.], dtype=float32),\n",
       " array([ 88., 130., 142., 177.], dtype=float32),\n",
       " array([ 82., 129., 157., 174.], dtype=float32),\n",
       " array([122., 136., 182., 185.], dtype=float32),\n",
       " array([ 52.,  67., 121.,  93.], dtype=float32),\n",
       " array([ 80., 142., 137., 168.], dtype=float32),\n",
       " array([ 98.,  57., 155.,  96.], dtype=float32),\n",
       " array([103.,  80., 127., 105.], dtype=float32),\n",
       " array([ 63., 120., 109., 161.], dtype=float32),\n",
       " array([136.,  60., 179.,  98.], dtype=float32),\n",
       " array([116.,  57., 141.,  84.], dtype=float32),\n",
       " array([ 23., 110.,  79., 158.], dtype=float32),\n",
       " array([ 71., 133., 128., 188.], dtype=float32),\n",
       " array([ 67., 131., 156., 189.], dtype=float32),\n",
       " array([ 44., 129., 198., 187.], dtype=float32),\n",
       " array([ 76.,  57., 121.,  89.], dtype=float32),\n",
       " array([ 75., 143., 133., 179.], dtype=float32),\n",
       " array([ 90.,  53., 145.,  99.], dtype=float32),\n",
       " array([ 50., 125., 174., 182.], dtype=float32),\n",
       " array([ 65., 131., 201., 176.], dtype=float32),\n",
       " array([ 42., 131., 168., 198.], dtype=float32),\n",
       " array([ 63.,  80., 114., 102.], dtype=float32),\n",
       " array([132.,  21., 203.,  61.], dtype=float32),\n",
       " array([113.,  50., 152., 105.], dtype=float32),\n",
       " array([121.,  53., 149.,  90.], dtype=float32),\n",
       " array([132.,  47., 165.,  79.], dtype=float32),\n",
       " array([ 66.,  35., 106.,  91.], dtype=float32),\n",
       " array([100.,  68., 156.,  98.], dtype=float32),\n",
       " array([ 54.,  40., 173.,  97.], dtype=float32),\n",
       " array([102., 130., 160., 185.], dtype=float32),\n",
       " array([ 27., 124., 173., 174.], dtype=float32),\n",
       " array([134., 125., 165., 174.], dtype=float32),\n",
       " array([ 89.,  48., 164.,  94.], dtype=float32),\n",
       " array([110.,  73., 137., 103.], dtype=float32),\n",
       " array([ 60.,  44., 166.,  91.], dtype=float32),\n",
       " array([ 72., 133., 151., 176.], dtype=float32),\n",
       " array([126., 143., 173., 196.], dtype=float32),\n",
       " array([102., 138., 186., 199.], dtype=float32),\n",
       " array([ 33., 133., 168., 198.], dtype=float32),\n",
       " array([103.,  48., 207., 100.], dtype=float32),\n",
       " array([ 61.,  39., 137.,  86.], dtype=float32),\n",
       " array([ 93.,  63., 123., 104.], dtype=float32),\n",
       " array([ 71.,  37., 155.,  77.], dtype=float32),\n",
       " array([ 81.,  48., 167., 102.], dtype=float32),\n",
       " array([ 89., 136., 122., 167.], dtype=float32),\n",
       " array([ 38.,  99., 188., 157.], dtype=float32),\n",
       " array([ 29.,  51., 174., 113.], dtype=float32),\n",
       " array([151., 134., 188., 173.], dtype=float32),\n",
       " array([ 56., 147., 158., 212.], dtype=float32),\n",
       " array([ 27.,  42., 142.,  98.], dtype=float32),\n",
       " array([ 60.,  48., 126., 103.], dtype=float32),\n",
       " array([124.,  41., 172., 103.], dtype=float32),\n",
       " array([ 76.,  48., 107., 100.], dtype=float32),\n",
       " array([119.,  68., 149.,  87.], dtype=float32),\n",
       " array([136., 133., 155., 203.], dtype=float32),\n",
       " array([144., 128., 201., 190.], dtype=float32),\n",
       " array([ 60.,  52., 105., 103.], dtype=float32),\n",
       " array([ 66., 143., 183., 202.], dtype=float32),\n",
       " array([106.,   1., 199.,  59.], dtype=float32),\n",
       " array([ 78., 132., 116., 178.], dtype=float32),\n",
       " array([ 92.,  72., 118.,  99.], dtype=float32),\n",
       " array([ 35.,  37., 166.,  87.], dtype=float32),\n",
       " array([23., 47., 95., 97.], dtype=float32),\n",
       " array([ 39.,  34., 163.,  85.], dtype=float32),\n",
       " array([ 45., 114., 205., 191.], dtype=float32),\n",
       " array([119.,  29., 181.,  79.], dtype=float32),\n",
       " array([117.,  35., 154.,  77.], dtype=float32),\n",
       " array([ 35.,  40., 165., 100.], dtype=float32),\n",
       " array([ 64.,  67., 124., 113.], dtype=float32),\n",
       " array([ 58.,  27., 175.,  81.], dtype=float32),\n",
       " array([ 32., 124.,  70., 157.], dtype=float32),\n",
       " array([ 64., 125., 132., 181.], dtype=float32),\n",
       " array([ 73.,  40., 124.,  82.], dtype=float32),\n",
       " array([ 91.,  21., 152.,  70.], dtype=float32),\n",
       " array([ 89., 132., 121., 177.], dtype=float32),\n",
       " array([111., 149., 141., 183.], dtype=float32),\n",
       " array([ 35.,  37., 176., 100.], dtype=float32),\n",
       " array([106.,  53., 152.,  91.], dtype=float32),\n",
       " array([ 58., 134., 177., 178.], dtype=float32),\n",
       " array([ 93.,  44., 149.,  85.], dtype=float32),\n",
       " array([ 87., 112., 124., 159.], dtype=float32),\n",
       " array([ 80., 125., 110., 182.], dtype=float32),\n",
       " array([ 70., 138., 142., 188.], dtype=float32),\n",
       " array([137., 136., 170., 185.], dtype=float32),\n",
       " array([ 26., 135., 169., 206.], dtype=float32),\n",
       " array([116.,  53., 179.,  98.], dtype=float32),\n",
       " array([ 33.,  41., 154., 101.], dtype=float32),\n",
       " array([ 83.,  24., 158.,  93.], dtype=float32),\n",
       " array([ 58.,  59., 118.,  94.], dtype=float32),\n",
       " array([ 83., 165., 147., 194.], dtype=float32),\n",
       " array([ 81., 131., 177., 184.], dtype=float32),\n",
       " array([ 49.,  40., 142.,  90.], dtype=float32),\n",
       " array([126., 143., 165., 199.], dtype=float32),\n",
       " array([ 55., 116., 137., 161.], dtype=float32),\n",
       " array([ 79.,  52., 133.,  85.], dtype=float32),\n",
       " array([ 43., 114., 160., 164.], dtype=float32),\n",
       " array([ 73., 146., 116., 207.], dtype=float32),\n",
       " array([ 77.,  70., 141., 100.], dtype=float32),\n",
       " array([ 78.,  62., 101.,  92.], dtype=float32),\n",
       " array([ 45.,  74., 133., 121.], dtype=float32),\n",
       " array([ 70., 119., 204., 188.], dtype=float32),\n",
       " array([ 91.,  29., 196.,  84.], dtype=float32),\n",
       " array([ 99.,  63., 121.,  95.], dtype=float32),\n",
       " array([139.,  52., 178.,  85.], dtype=float32),\n",
       " array([103.,  47., 148.,  87.], dtype=float32),\n",
       " array([102., 112., 138., 150.], dtype=float32),\n",
       " array([ 86., 111., 149., 175.], dtype=float32),\n",
       " array([ 46.,  56., 184., 107.], dtype=float32),\n",
       " array([ 82., 136., 133., 183.], dtype=float32),\n",
       " array([149.,  16., 201.,  58.], dtype=float32),\n",
       " array([115., 120., 177., 160.], dtype=float32),\n",
       " array([ 79., 133., 128., 195.], dtype=float32),\n",
       " array([ 32.,  24., 154.,  85.], dtype=float32),\n",
       " array([ 78.,  78., 128., 107.], dtype=float32),\n",
       " array([55., 65., 91., 92.], dtype=float32),\n",
       " array([ 44.,  32., 140.,  85.], dtype=float32),\n",
       " array([ 49.,  58., 151., 117.], dtype=float32),\n",
       " array([103.,  24., 180.,  89.], dtype=float32),\n",
       " array([ 31., 129., 142., 196.], dtype=float32),\n",
       " array([ 32., 127., 138., 183.], dtype=float32),\n",
       " array([ 58., 111., 191., 158.], dtype=float32),\n",
       " array([ 27., 126., 180., 196.], dtype=float32),\n",
       " array([ 38.,  26., 118.,  81.], dtype=float32),\n",
       " array([ 26.,  29., 140.,  83.], dtype=float32),\n",
       " array([118.,  30., 142.,  72.], dtype=float32),\n",
       " array([ 99.,  39., 172.,  81.], dtype=float32),\n",
       " array([ 70., 148., 128., 175.], dtype=float32),\n",
       " array([ 87.,  29., 141.,  93.], dtype=float32),\n",
       " array([ 40.,  17., 179.,  74.], dtype=float32),\n",
       " array([137., 159., 160., 184.], dtype=float32),\n",
       " array([ 93., 132., 145., 179.], dtype=float32),\n",
       " array([ 94.,  39., 149.,  81.], dtype=float32),\n",
       " array([138.,  25., 172.,  96.], dtype=float32),\n",
       " array([ 81., 122., 120., 159.], dtype=float32),\n",
       " array([ 75., 100., 176., 158.], dtype=float32),\n",
       " array([ 49., 153., 116., 186.], dtype=float32),\n",
       " array([ 30.,  32., 136.,  86.], dtype=float32),\n",
       " array([ 20.,  33., 207., 111.], dtype=float32),\n",
       " array([ 89., 133., 206., 185.], dtype=float32),\n",
       " array([ 50., 119., 130., 165.], dtype=float32),\n",
       " array([111.,  50., 165.,  92.], dtype=float32),\n",
       " array([104., 149., 134., 192.], dtype=float32),\n",
       " array([ 29., 142., 151., 189.], dtype=float32),\n",
       " array([ 87., 130., 149., 172.], dtype=float32),\n",
       " array([ 46., 130., 136., 182.], dtype=float32),\n",
       " array([102., 135., 159., 184.], dtype=float32),\n",
       " array([ 67.,  41., 109.,  85.], dtype=float32),\n",
       " array([109., 148., 164., 206.], dtype=float32),\n",
       " array([ 70., 134., 165., 209.], dtype=float32),\n",
       " array([ 82.,  44., 133.,  84.], dtype=float32),\n",
       " array([ 94.,  44., 127.,  93.], dtype=float32),\n",
       " array([100.,  43., 149.,  99.], dtype=float32),\n",
       " array([116., 120., 159., 178.], dtype=float32),\n",
       " array([ 18., 140., 153., 188.], dtype=float32),\n",
       " array([ 91., 129., 165., 191.], dtype=float32),\n",
       " array([13., 22., 87., 75.], dtype=float32),\n",
       " array([112.,  51., 163.,  94.], dtype=float32),\n",
       " array([ 54., 115., 126., 160.], dtype=float32),\n",
       " array([ 83., 131., 185., 183.], dtype=float32),\n",
       " array([111.,  48., 130.,  72.], dtype=float32),\n",
       " array([ 59.,  35., 154.,  79.], dtype=float32),\n",
       " array([ 77., 128., 153., 174.], dtype=float32),\n",
       " array([133.,  50., 184.,  95.], dtype=float32),\n",
       " array([ 34., 138., 171., 183.], dtype=float32),\n",
       " array([ 96., 141., 191., 196.], dtype=float32),\n",
       " array([ 66.,  45., 146.,  91.], dtype=float32),\n",
       " array([134.,  64., 163., 110.], dtype=float32),\n",
       " array([ 88., 125., 130., 179.], dtype=float32),\n",
       " array([ 89.,  68., 142., 101.], dtype=float32),\n",
       " array([ 97., 117., 152., 158.], dtype=float32),\n",
       " array([102., 126., 169., 207.], dtype=float32),\n",
       " array([ 48., 126., 156., 183.], dtype=float32),\n",
       " array([ 79., 157., 127., 179.], dtype=float32),\n",
       " array([106., 139., 177., 203.], dtype=float32),\n",
       " array([ 49.,  58., 154., 110.], dtype=float32),\n",
       " array([ 84.,  62., 125.,  94.], dtype=float32),\n",
       " array([ 68., 135., 165., 190.], dtype=float32),\n",
       " array([36., 41., 93., 95.], dtype=float32),\n",
       " array([137.,  72., 207., 106.], dtype=float32),\n",
       " array([ 68., 132., 186., 191.], dtype=float32),\n",
       " array([ 69., 136., 142., 190.], dtype=float32),\n",
       " array([125.,  42., 183.,  88.], dtype=float32),\n",
       " array([ 60., 118., 181., 173.], dtype=float32),\n",
       " array([ 66., 132., 139., 179.], dtype=float32),\n",
       " array([ 48., 117., 146., 163.], dtype=float32),\n",
       " array([100., 119., 139., 159.], dtype=float32),\n",
       " array([ 80.,  47., 132.,  91.], dtype=float32),\n",
       " array([ 55., 132., 150., 195.], dtype=float32),\n",
       " array([ 65., 125., 169., 188.], dtype=float32),\n",
       " array([ 77., 133., 208., 199.], dtype=float32),\n",
       " array([ 62., 128., 131., 175.], dtype=float32),\n",
       " array([ 44., 122., 140., 181.], dtype=float32),\n",
       " array([ 45., 132., 160., 177.], dtype=float32),\n",
       " array([ 57.,  49., 129.,  98.], dtype=float32),\n",
       " array([ 67., 139., 170., 184.], dtype=float32),\n",
       " array([ 89., 131., 158., 185.], dtype=float32),\n",
       " array([ 76., 124., 165., 174.], dtype=float32),\n",
       " array([ 40., 121., 133., 183.], dtype=float32),\n",
       " array([ 72.,  46., 117.,  99.], dtype=float32),\n",
       " array([ 44.,  48., 163., 102.], dtype=float32),\n",
       " array([ 64., 146., 163., 201.], dtype=float32),\n",
       " array([ 65.,  62., 118., 102.], dtype=float32),\n",
       " array([ 60., 138., 161., 207.], dtype=float32),\n",
       " array([ 93., 103., 187., 180.], dtype=float32),\n",
       " array([ 77., 111., 165., 166.], dtype=float32),\n",
       " array([ 60., 109., 138., 156.], dtype=float32),\n",
       " array([ 57.,  10., 151.,  67.], dtype=float32),\n",
       " array([ 53., 132., 165., 185.], dtype=float32),\n",
       " array([ 69., 135., 159., 190.], dtype=float32),\n",
       " array([ 37.,  27., 137.,  83.], dtype=float32),\n",
       " array([ 80.,  55., 141., 105.], dtype=float32),\n",
       " array([ 53.,  55., 135., 109.], dtype=float32),\n",
       " array([ 63.,  46., 156., 101.], dtype=float32),\n",
       " array([ 46.,  68., 135., 110.], dtype=float32),\n",
       " array([ 76., 118., 139., 167.], dtype=float32),\n",
       " array([ 82.,  33., 171.,  94.], dtype=float32),\n",
       " array([ 86., 145., 171., 207.], dtype=float32),\n",
       " array([ 60.,  80., 158., 125.], dtype=float32),\n",
       " array([ 32.,  38., 146.,  79.], dtype=float32),\n",
       " array([ 46.,  42., 168., 112.], dtype=float32),\n",
       " array([ 77., 173., 109., 192.], dtype=float32),\n",
       " array([ 78., 123., 152., 163.], dtype=float32),\n",
       " array([ 74.,  81., 116., 116.], dtype=float32),\n",
       " array([ 77.,  49., 147.,  98.], dtype=float32),\n",
       " array([ 96.,  40., 114.,  61.], dtype=float32),\n",
       " array([111., 141., 173., 189.], dtype=float32),\n",
       " array([ 51.,  28., 128.,  71.], dtype=float32),\n",
       " array([124.,  56., 160.,  98.], dtype=float32),\n",
       " array([134.,  74., 151.,  92.], dtype=float32),\n",
       " array([117., 167., 156., 195.], dtype=float32),\n",
       " array([ 36., 144., 102., 181.], dtype=float32),\n",
       " array([ 82., 122., 175., 178.], dtype=float32),\n",
       " array([ 45.,  51., 164., 106.], dtype=float32),\n",
       " array([ 76., 138., 124., 180.], dtype=float32),\n",
       " array([121.,  60., 151.,  89.], dtype=float32),\n",
       " array([ 72.,  23., 141.,  64.], dtype=float32),\n",
       " array([ 42., 123., 136., 173.], dtype=float32),\n",
       " array([ 93.,  98., 120., 115.], dtype=float32),\n",
       " array([126.,  47., 151.,  86.], dtype=float32),\n",
       " array([109.,  32., 156.,  79.], dtype=float32),\n",
       " array([ 81., 117., 162., 173.], dtype=float32),\n",
       " array([117., 110., 174., 165.], dtype=float32),\n",
       " array([ 78.,  38., 140.,  79.], dtype=float32),\n",
       " array([120.,  75., 158., 113.], dtype=float32),\n",
       " array([ 57.,  28., 155.,  66.], dtype=float32),\n",
       " array([ 98., 138., 152., 178.], dtype=float32),\n",
       " array([154.,  58., 196.,  99.], dtype=float32),\n",
       " array([127.,  39., 163.,  70.], dtype=float32),\n",
       " array([ 73., 139., 182., 192.], dtype=float32),\n",
       " array([133., 167., 152., 187.], dtype=float32),\n",
       " array([123., 136., 139., 160.], dtype=float32),\n",
       " array([ 96.,  67., 116.,  90.], dtype=float32),\n",
       " array([ 72., 150., 167., 180.], dtype=float32),\n",
       " array([107.,  86., 140., 102.], dtype=float32),\n",
       " array([104., 155., 135., 176.], dtype=float32),\n",
       " array([ 72.,  25., 130.,  76.], dtype=float32),\n",
       " array([139.,  57., 179.,  91.], dtype=float32),\n",
       " array([ 35., 140., 128., 189.], dtype=float32),\n",
       " array([140.,  43., 149.,  86.], dtype=float32),\n",
       " array([ 87.,  38., 159.,  99.], dtype=float32),\n",
       " array([111.,  82., 135., 110.], dtype=float32),\n",
       " array([153.,  74., 171.,  87.], dtype=float32),\n",
       " array([ 97.,  54., 140.,  88.], dtype=float32),\n",
       " array([ 49.,  54., 126., 100.], dtype=float32),\n",
       " array([105.,  50., 140.,  87.], dtype=float32),\n",
       " array([ 87.,  41., 130.,  79.], dtype=float32),\n",
       " array([112., 150., 160., 189.], dtype=float32),\n",
       " array([116., 147., 170., 185.], dtype=float32),\n",
       " array([102.,  83., 129., 102.], dtype=float32),\n",
       " array([ 95.,  67., 129.,  95.], dtype=float32),\n",
       " array([126., 145., 153., 174.], dtype=float32),\n",
       " array([130.,  57., 150.,  78.], dtype=float32),\n",
       " array([144.,  77., 193., 102.], dtype=float32),\n",
       " array([105.,  49., 159.,  91.], dtype=float32),\n",
       " array([ 92.,  50., 109.,  66.], dtype=float32),\n",
       " array([120., 151., 147., 169.], dtype=float32),\n",
       " array([ 69., 133., 172., 175.], dtype=float32),\n",
       " array([ 76.,  58., 139., 106.], dtype=float32),\n",
       " array([ 40., 126., 159., 165.], dtype=float32),\n",
       " array([ 47., 136., 100., 179.], dtype=float32),\n",
       " array([116.,  54., 166., 100.], dtype=float32),\n",
       " array([113.,  74., 144., 109.], dtype=float32),\n",
       " array([137.,  44., 172.,  81.], dtype=float32),\n",
       " array([ 38.,  57., 115., 103.], dtype=float32),\n",
       " array([140.,  49., 172.,  82.], dtype=float32),\n",
       " array([ 92.,  62., 130.,  93.], dtype=float32),\n",
       " array([108., 162., 129., 185.], dtype=float32),\n",
       " array([ 92.,  72., 114.,  92.], dtype=float32),\n",
       " array([ 99.,  44., 131.,  80.], dtype=float32),\n",
       " array([ 97., 143., 139., 182.], dtype=float32),\n",
       " array([ 77., 135., 130., 175.], dtype=float32),\n",
       " array([ 81.,  49., 135.,  84.], dtype=float32),\n",
       " array([111.,  53., 137., 107.], dtype=float32),\n",
       " array([103.,  39., 139.,  89.], dtype=float32),\n",
       " array([100.,  42., 173.,  88.], dtype=float32),\n",
       " array([114.,  62., 148.,  82.], dtype=float32),\n",
       " array([166.,  29., 197.,  74.], dtype=float32),\n",
       " array([ 56., 128.,  84., 159.], dtype=float32),\n",
       " array([ 79., 111., 143., 162.], dtype=float32),\n",
       " array([119.,  23., 132.,  73.], dtype=float32),\n",
       " array([ 78., 130., 104., 163.], dtype=float32),\n",
       " array([118., 159., 163., 190.], dtype=float32),\n",
       " array([110.,  52., 140.,  93.], dtype=float32),\n",
       " array([ 95.,  61., 109.,  88.], dtype=float32),\n",
       " array([112.,  52., 130.,  75.], dtype=float32),\n",
       " array([ 83.,  41., 117.,  81.], dtype=float32),\n",
       " array([ 55.,  38., 117.,  74.], dtype=float32),\n",
       " array([ 26.,  48., 155., 102.], dtype=float32),\n",
       " array([ 60., 131., 168., 186.], dtype=float32),\n",
       " array([55., 14., 71., 56.], dtype=float32),\n",
       " array([126.,  30., 151.,  74.], dtype=float32),\n",
       " array([105., 127., 167., 182.], dtype=float32),\n",
       " array([ 55., 139., 142., 182.], dtype=float32),\n",
       " array([ 46.,  41., 121.,  86.], dtype=float32),\n",
       " array([ 62., 128., 162., 186.], dtype=float32),\n",
       " array([102., 140., 159., 170.], dtype=float32),\n",
       " array([ 91.,  49., 115.,  78.], dtype=float32),\n",
       " array([ 82., 138., 120., 172.], dtype=float32),\n",
       " array([ 93.,  41., 122.,  70.], dtype=float32),\n",
       " array([ 46., 138., 106., 185.], dtype=float32),\n",
       " array([100., 111., 187., 152.], dtype=float32),\n",
       " array([114.,  52., 147.,  88.], dtype=float32),\n",
       " array([ 83.,  57., 166., 103.], dtype=float32),\n",
       " array([ 96.,  54., 141.,  84.], dtype=float32),\n",
       " array([ 46., 101., 169., 146.], dtype=float32),\n",
       " array([ 96.,  21., 163.,  87.], dtype=float32),\n",
       " array([115.,  41., 143.,  79.], dtype=float32),\n",
       " array([ 33.,  58., 142., 107.], dtype=float32),\n",
       " array([112.,  50., 144.,  82.], dtype=float32),\n",
       " array([ 49.,  59., 107.,  94.], dtype=float32),\n",
       " array([ 54., 132., 151., 170.], dtype=float32),\n",
       " array([126.,  56., 166., 116.], dtype=float32),\n",
       " array([ 72., 121., 170., 169.], dtype=float32),\n",
       " array([ 53.,  22., 179.,  93.], dtype=float32),\n",
       " array([ 97., 122., 198., 170.], dtype=float32),\n",
       " array([117.,  32., 161.,  75.], dtype=float32),\n",
       " array([ 89., 145., 174., 175.], dtype=float32),\n",
       " array([130.,  35., 155.,  64.], dtype=float32),\n",
       " array([112.,  68., 133., 102.], dtype=float32),\n",
       " array([ 67.,  77., 149., 121.], dtype=float32),\n",
       " array([120.,  58., 161.,  93.], dtype=float32),\n",
       " array([ 81., 146.,  98., 160.], dtype=float32),\n",
       " array([ 66.,  59., 170.,  94.], dtype=float32),\n",
       " array([132., 126., 151., 168.], dtype=float32),\n",
       " array([142.,  44., 175.,  89.], dtype=float32),\n",
       " array([ 87., 130., 111., 166.], dtype=float32),\n",
       " array([ 77.,  69., 142., 109.], dtype=float32),\n",
       " array([ 67.,  58., 162.,  95.], dtype=float32),\n",
       " array([103.,  59., 148.,  91.], dtype=float32),\n",
       " array([ 89., 139., 181., 183.], dtype=float32),\n",
       " array([ 60., 132., 170., 186.], dtype=float32),\n",
       " array([65., 50., 97., 90.], dtype=float32),\n",
       " array([ 59., 112., 133., 153.], dtype=float32),\n",
       " array([ 60.,  23., 178.,  73.], dtype=float32),\n",
       " array([ 85.,  58., 150.,  98.], dtype=float32),\n",
       " array([ 51., 133., 137., 174.], dtype=float32),\n",
       " array([ 89., 139., 125., 174.], dtype=float32),\n",
       " array([ 69., 115., 172., 145.], dtype=float32),\n",
       " array([128.,  60., 203.,  95.], dtype=float32),\n",
       " array([ 98.,  45., 142.,  85.], dtype=float32),\n",
       " array([ 64.,  32., 150.,  87.], dtype=float32),\n",
       " array([156.,  75., 173., 108.], dtype=float32),\n",
       " array([ 82.,  54., 139., 101.], dtype=float32),\n",
       " array([ 81., 136., 114., 166.], dtype=float32),\n",
       " array([47., 63., 71., 91.], dtype=float32),\n",
       " array([100.,  28., 170.,  74.], dtype=float32),\n",
       " array([ 94.,  16., 137.,  79.], dtype=float32),\n",
       " array([ 61., 144., 117., 175.], dtype=float32),\n",
       " array([ 83.,  44., 115.,  77.], dtype=float32),\n",
       " array([118.,  26., 138.,  45.], dtype=float32),\n",
       " array([ 53., 143.,  89., 167.], dtype=float32),\n",
       " array([ 98.,  79., 119.,  97.], dtype=float32),\n",
       " array([ 53.,  44., 119.,  90.], dtype=float32),\n",
       " array([ 82., 137., 193., 177.], dtype=float32),\n",
       " array([ 65., 125., 167., 170.], dtype=float32),\n",
       " array([ 56., 140., 101., 170.], dtype=float32),\n",
       " array([ 51., 120., 180., 169.], dtype=float32),\n",
       " array([ 90., 174., 144., 207.], dtype=float32),\n",
       " array([ 74.,  60., 139., 104.], dtype=float32),\n",
       " array([146., 126., 166., 155.], dtype=float32),\n",
       " array([ 96.,  58., 141.,  89.], dtype=float32),\n",
       " array([101.,  16., 150.,  67.], dtype=float32),\n",
       " array([152.,  75., 176.,  94.], dtype=float32),\n",
       " array([137.,  33., 167.,  75.], dtype=float32),\n",
       " array([ 48., 111., 103., 158.], dtype=float32),\n",
       " array([ 57.,  40., 138.,  76.], dtype=float32),\n",
       " array([46., 47., 61., 68.], dtype=float32),\n",
       " array([115.,  60., 154.,  93.], dtype=float32),\n",
       " array([ 67., 166., 167., 202.], dtype=float32),\n",
       " array([ 74., 149., 141., 183.], dtype=float32),\n",
       " array([110.,  52., 150.,  81.], dtype=float32),\n",
       " array([104.,  61., 131.,  99.], dtype=float32),\n",
       " array([ 82., 153., 136., 191.], dtype=float32),\n",
       " array([ 82.,  53., 125.,  88.], dtype=float32),\n",
       " array([100., 164., 154., 186.], dtype=float32),\n",
       " array([ 60., 144., 167., 187.], dtype=float32),\n",
       " array([ 62., 166., 126., 204.], dtype=float32),\n",
       " array([120.,  50., 156.,  88.], dtype=float32),\n",
       " array([47., 51., 82., 86.], dtype=float32),\n",
       " array([ 78.,  58., 168.,  98.], dtype=float32),\n",
       " array([107.,  38., 143.,  84.], dtype=float32),\n",
       " array([ 61.,  41., 103.,  74.], dtype=float32),\n",
       " array([ 85.,  54., 116.,  93.], dtype=float32),\n",
       " array([ 60., 128., 149., 170.], dtype=float32),\n",
       " array([100.,  33., 141.,  74.], dtype=float32),\n",
       " array([ 85., 122., 140., 162.], dtype=float32),\n",
       " array([ 84.,  32., 139.,  77.], dtype=float32),\n",
       " array([ 67., 125., 173., 173.], dtype=float32),\n",
       " array([ 66., 123., 175., 175.], dtype=float32),\n",
       " array([ 41., 120., 155., 188.], dtype=float32),\n",
       " array([ 74.,  56., 148., 108.], dtype=float32),\n",
       " array([ 33.,  49., 102., 107.], dtype=float32),\n",
       " array([ 99.,  51., 140.,  95.], dtype=float32),\n",
       " array([140.,  21., 198.,  74.], dtype=float32),\n",
       " array([ 81., 145., 116., 175.], dtype=float32),\n",
       " array([ 70.,  30., 149.,  87.], dtype=float32),\n",
       " array([ 35., 111., 162., 170.], dtype=float32),\n",
       " array([ 94.,  37., 130.,  79.], dtype=float32),\n",
       " array([ 16., 108.,  84., 179.], dtype=float32),\n",
       " array([113.,  44., 180.,  98.], dtype=float32),\n",
       " array([ 98., 142., 158., 212.], dtype=float32),\n",
       " array([ 76., 113., 171., 184.], dtype=float32),\n",
       " array([ 58., 140., 103., 172.], dtype=float32),\n",
       " array([ 46., 119., 176., 187.], dtype=float32),\n",
       " array([114., 154., 172., 200.], dtype=float32),\n",
       " array([ 39.,  60., 175., 100.], dtype=float32),\n",
       " array([ 43., 131., 161., 185.], dtype=float32),\n",
       " array([101., 130., 180., 176.], dtype=float32),\n",
       " array([ 94., 149., 170., 205.], dtype=float32),\n",
       " array([ 60., 104., 157., 172.], dtype=float32),\n",
       " array([114.,  95., 177., 148.], dtype=float32),\n",
       " array([ 91., 138., 130., 174.], dtype=float32),\n",
       " array([107., 110., 206., 182.], dtype=float32),\n",
       " array([106.,   3., 201.,  84.], dtype=float32),\n",
       " array([ 81.,  49., 153., 103.], dtype=float32),\n",
       " array([126.,  39., 204., 107.], dtype=float32),\n",
       " array([154., 150., 213., 207.], dtype=float32),\n",
       " array([ 78.,  35., 163.,  60.], dtype=float32),\n",
       " array([126.,  37., 182.,  73.], dtype=float32),\n",
       " array([ 42., 119., 202., 172.], dtype=float32),\n",
       " array([ 50.,  56., 126., 110.], dtype=float32),\n",
       " array([ 70., 123., 133., 183.], dtype=float32),\n",
       " array([ 95.,  39., 166.,  89.], dtype=float32),\n",
       " array([ 43., 116., 164., 176.], dtype=float32),\n",
       " array([ 52., 123., 194., 189.], dtype=float32),\n",
       " array([ 74.,  57., 205., 105.], dtype=float32),\n",
       " array([105.,   7., 205.,  67.], dtype=float32),\n",
       " array([ 44., 121., 191., 187.], dtype=float32),\n",
       " array([ 34.,  49., 188., 108.], dtype=float32),\n",
       " array([36., 38., 89., 87.], dtype=float32),\n",
       " array([125., 137., 200., 201.], dtype=float32),\n",
       " array([ 78.,  49., 161., 110.], dtype=float32),\n",
       " array([ 40., 139., 201., 203.], dtype=float32),\n",
       " array([ 80., 133., 181., 199.], dtype=float32),\n",
       " array([ 15., 110.,  72., 163.], dtype=float32),\n",
       " array([ 35.,  61., 147., 116.], dtype=float32),\n",
       " array([ 67.,  98., 160., 166.], dtype=float32),\n",
       " array([ 10., 123.,  84., 182.], dtype=float32),\n",
       " array([ 32.,  37., 158.,  89.], dtype=float32),\n",
       " array([ 83., 148., 175., 188.], dtype=float32),\n",
       " array([ 70.,  36., 133.,  78.], dtype=float32),\n",
       " array([ 36., 131., 146., 185.], dtype=float32),\n",
       " array([ 62.,  20., 153.,  87.], dtype=float32),\n",
       " array([ 33.,  42., 140., 101.], dtype=float32),\n",
       " array([ 44., 137., 187., 211.], dtype=float32),\n",
       " array([ 43., 148., 119., 195.], dtype=float32),\n",
       " array([ 92., 145., 221., 213.], dtype=float32),\n",
       " array([ 49., 136., 156., 204.], dtype=float32),\n",
       " array([ 33.,  76., 105., 100.], dtype=float32),\n",
       " array([ 82., 130., 219., 206.], dtype=float32),\n",
       " array([ 48.,  53., 189., 114.], dtype=float32),\n",
       " array([ 36., 119., 175., 207.], dtype=float32),\n",
       " array([ 51., 123., 177., 187.], dtype=float32),\n",
       " array([ 42., 137., 193., 220.], dtype=float32),\n",
       " array([ 55.,  97., 131., 140.], dtype=float32),\n",
       " array([ 74., 140., 171., 189.], dtype=float32),\n",
       " array([107., 146., 185., 194.], dtype=float32),\n",
       " array([112.,  67., 162.,  92.], dtype=float32),\n",
       " array([131., 138., 222., 200.], dtype=float32),\n",
       " array([ 55., 143., 121., 203.], dtype=float32),\n",
       " array([109.,  45., 186., 113.], dtype=float32),\n",
       " array([ 95.,  23., 143.,  93.], dtype=float32),\n",
       " array([ 53., 102., 178., 177.], dtype=float32),\n",
       " array([108., 121., 184., 171.], dtype=float32),\n",
       " array([ 50.,  38., 188., 106.], dtype=float32),\n",
       " array([ 94.,  26., 151.,  81.], dtype=float32),\n",
       " array([110., 136., 168., 197.], dtype=float32),\n",
       " array([ 41., 130., 190., 201.], dtype=float32),\n",
       " array([ 70., 110., 217., 172.], dtype=float32),\n",
       " array([ 44., 114., 221., 194.], dtype=float32),\n",
       " array([ 57.,  36., 169.,  97.], dtype=float32),\n",
       " array([32., 47., 84., 92.], dtype=float32),\n",
       " array([ 82., 149., 126., 187.], dtype=float32),\n",
       " array([109., 126., 146., 173.], dtype=float32),\n",
       " array([ 55.,  23., 168.,  90.], dtype=float32),\n",
       " array([ 36., 119., 219., 190.], dtype=float32),\n",
       " array([ 83., 118., 158., 159.], dtype=float32),\n",
       " array([ 34.,  47., 170., 104.], dtype=float32),\n",
       " array([ 64.,  38., 204.,  83.], dtype=float32),\n",
       " array([ 54.,  42., 196., 109.], dtype=float32),\n",
       " array([ 18.,  40., 119.,  90.], dtype=float32),\n",
       " array([ 58., 148., 145., 199.], dtype=float32),\n",
       " array([107., 129., 176., 191.], dtype=float32),\n",
       " array([ 78.,  40., 164.,  83.], dtype=float32),\n",
       " array([119.,  61., 164., 104.], dtype=float32),\n",
       " array([29., 26., 98., 96.], dtype=float32),\n",
       " array([ 28.,  35., 108.,  99.], dtype=float32),\n",
       " array([ 59., 143., 171., 213.], dtype=float32),\n",
       " array([ 61.,  76., 173., 119.], dtype=float32),\n",
       " array([ 98., 133., 157., 182.], dtype=float32),\n",
       " array([ 26.,  33., 108.,  77.], dtype=float32),\n",
       " array([ 19.,  48., 103., 105.], dtype=float32),\n",
       " array([ 33., 130., 158., 190.], dtype=float32),\n",
       " array([104.,  53., 142.,  91.], dtype=float32),\n",
       " array([ 61., 145., 180., 215.], dtype=float32),\n",
       " array([ 99., 129., 157., 181.], dtype=float32),\n",
       " array([ 34., 104., 163., 181.], dtype=float32),\n",
       " array([ 78.,  39., 153.,  91.], dtype=float32),\n",
       " array([ 95., 157., 189., 216.], dtype=float32),\n",
       " array([109.,  47., 191., 102.], dtype=float32),\n",
       " array([ 91., 131., 142., 191.], dtype=float32),\n",
       " array([131.,  62., 208., 109.], dtype=float32),\n",
       " array([112.,  60., 191., 109.], dtype=float32),\n",
       " array([117., 139., 181., 190.], dtype=float32),\n",
       " array([ 83., 135., 148., 191.], dtype=float32),\n",
       " array([ 63., 111., 168., 173.], dtype=float32),\n",
       " array([122.,  28., 171.,  90.], dtype=float32),\n",
       " array([105., 130., 161., 195.], dtype=float32),\n",
       " array([ 44., 123., 176., 173.], dtype=float32),\n",
       " array([ 69., 130., 164., 200.], dtype=float32),\n",
       " array([ 99., 125., 138., 161.], dtype=float32),\n",
       " array([ 74., 127., 146., 185.], dtype=float32),\n",
       " array([ 23., 117., 190., 205.], dtype=float32),\n",
       " array([ 70., 137., 123., 192.], dtype=float32),\n",
       " array([ 63.,  52., 141., 103.], dtype=float32),\n",
       " array([ 19.,  45., 167., 106.], dtype=float32),\n",
       " array([ 80., 139., 144., 196.], dtype=float32),\n",
       " array([111., 132., 158., 168.], dtype=float32),\n",
       " array([116., 133., 179., 196.], dtype=float32),\n",
       " array([ 55., 133., 142., 194.], dtype=float32),\n",
       " array([ 43., 137., 192., 207.], dtype=float32),\n",
       " array([ 99., 105., 146., 165.], dtype=float32),\n",
       " array([114.,  41., 172.,  96.], dtype=float32),\n",
       " array([111., 139., 174., 198.], dtype=float32),\n",
       " array([108.,  35., 159.,  98.], dtype=float32),\n",
       " array([101.,  37., 164.,  92.], dtype=float32),\n",
       " array([ 84.,  18., 154.,  89.], dtype=float32),\n",
       " array([ 87.,  15., 151.,  84.], dtype=float32),\n",
       " array([ 40.,  46., 160., 106.], dtype=float32),\n",
       " array([ 27.,  45., 188., 102.], dtype=float32),\n",
       " array([129.,  32., 184.,  88.], dtype=float32),\n",
       " array([ 47., 138., 159., 184.], dtype=float32),\n",
       " array([ 65., 124., 148., 204.], dtype=float32),\n",
       " array([ 93.,  71., 171., 126.], dtype=float32),\n",
       " array([ 46.,  37., 162., 108.], dtype=float32),\n",
       " array([109., 117., 185., 180.], dtype=float32),\n",
       " array([ 40.,  45., 200., 121.], dtype=float32),\n",
       " array([ 93., 107., 159., 169.], dtype=float32),\n",
       " array([ 89., 143., 142., 218.], dtype=float32),\n",
       " array([ 62.,  50., 175., 100.], dtype=float32),\n",
       " array([ 89., 128., 162., 189.], dtype=float32),\n",
       " array([106., 128., 179., 167.], dtype=float32),\n",
       " array([ 48.,  56., 118., 101.], dtype=float32),\n",
       " array([100., 146., 176., 200.], dtype=float32),\n",
       " array([ 91.,  54., 144.,  93.], dtype=float32),\n",
       " array([ 64., 145., 167., 216.], dtype=float32),\n",
       " array([ 42., 132., 176., 200.], dtype=float32),\n",
       " array([ 41.,  43., 161.,  97.], dtype=float32),\n",
       " array([134., 126., 182., 176.], dtype=float32),\n",
       " array([ 47., 125., 103., 185.], dtype=float32),\n",
       " array([119.,  41., 174.,  90.], dtype=float32),\n",
       " array([ 21.,  57., 123., 116.], dtype=float32),\n",
       " array([ 25., 114., 112., 184.], dtype=float32),\n",
       " array([ 86., 117., 142., 194.], dtype=float32),\n",
       " array([ 75., 121., 142., 186.], dtype=float32),\n",
       " array([ 92., 156., 192., 221.], dtype=float32),\n",
       " array([ 93., 141., 124., 177.], dtype=float32),\n",
       " array([ 44.,  52., 146.,  97.], dtype=float32),\n",
       " array([53., 38., 91., 82.], dtype=float32),\n",
       " array([ 29.,  65., 130., 110.], dtype=float32),\n",
       " array([ 78.,  41., 133.,  80.], dtype=float32),\n",
       " array([ 44.,  25., 190.,  94.], dtype=float32),\n",
       " array([111., 133., 160., 193.], dtype=float32),\n",
       " array([ 63., 133., 140., 190.], dtype=float32),\n",
       " array([ 88., 109., 130., 160.], dtype=float32),\n",
       " array([130., 128., 178., 172.], dtype=float32),\n",
       " array([ 85., 143., 143., 198.], dtype=float32),\n",
       " array([ 96., 154., 148., 202.], dtype=float32),\n",
       " array([ 65., 135., 136., 181.], dtype=float32),\n",
       " array([ 88., 129., 135., 194.], dtype=float32),\n",
       " array([106.,  57., 163., 105.], dtype=float32),\n",
       " array([ 90.,  47., 147., 111.], dtype=float32),\n",
       " array([ 53.,  51., 119., 111.], dtype=float32),\n",
       " array([ 96.,  53., 151., 109.], dtype=float32),\n",
       " array([ 98.,  49., 164.,  94.], dtype=float32),\n",
       " array([ 91., 109., 151., 175.], dtype=float32),\n",
       " array([ 26.,  52., 126., 115.], dtype=float32),\n",
       " array([ 56., 104., 134., 167.], dtype=float32),\n",
       " array([ 51.,  33., 172.,  98.], dtype=float32),\n",
       " array([ 45., 126., 185., 216.], dtype=float32),\n",
       " array([ 45., 133., 169., 201.], dtype=float32),\n",
       " array([ 61., 151., 110., 189.], dtype=float32),\n",
       " array([ 68.,  44., 162.,  88.], dtype=float32),\n",
       " array([ 81.,  48., 156.,  96.], dtype=float32),\n",
       " array([ 59.,  41., 153.,  95.], dtype=float32),\n",
       " array([116.,  54., 182., 112.], dtype=float32),\n",
       " array([172.,  22., 211.,  83.], dtype=float32),\n",
       " array([ 74.,  62., 128.,  93.], dtype=float32),\n",
       " array([ 88., 137., 144., 187.], dtype=float32),\n",
       " array([105., 139., 167., 197.], dtype=float32),\n",
       " array([ 54.,  48., 147.,  93.], dtype=float32),\n",
       " array([ 44.,  36., 134.,  89.], dtype=float32),\n",
       " array([104., 123., 155., 184.], dtype=float32),\n",
       " array([109., 125., 160., 173.], dtype=float32),\n",
       " array([ 89.,  45., 182.,  95.], dtype=float32),\n",
       " array([ 58.,  66., 131., 113.], dtype=float32),\n",
       " array([ 30.,  25., 126.,  85.], dtype=float32),\n",
       " array([111., 139., 147., 200.], dtype=float32),\n",
       " array([ 56., 142., 187., 202.], dtype=float32),\n",
       " array([147., 125., 173., 165.], dtype=float32),\n",
       " array([ 41., 114., 201., 175.], dtype=float32),\n",
       " array([ 60., 117., 140., 168.], dtype=float32),\n",
       " array([102., 149., 164., 188.], dtype=float32),\n",
       " array([103., 160., 146., 205.], dtype=float32),\n",
       " array([ 25.,  51., 146., 109.], dtype=float32),\n",
       " array([ 44.,  14., 180.,  71.], dtype=float32),\n",
       " array([ 56., 133., 132., 182.], dtype=float32),\n",
       " array([128., 139., 183., 193.], dtype=float32),\n",
       " array([ 95.,  25., 140.,  72.], dtype=float32),\n",
       " array([137.,  41., 172.,  93.], dtype=float32),\n",
       " array([ 70., 133., 149., 152.], dtype=float32),\n",
       " array([147.,  85., 181., 107.], dtype=float32),\n",
       " array([40., 33., 75., 79.], dtype=float32),\n",
       " array([ 87., 135., 140., 189.], dtype=float32),\n",
       " array([ 31., 128., 200., 195.], dtype=float32),\n",
       " array([110., 133., 145., 184.], dtype=float32),\n",
       " array([ 52., 132., 167., 198.], dtype=float32),\n",
       " array([ 49., 138.,  94., 186.], dtype=float32),\n",
       " array([ 87., 115., 198., 172.], dtype=float32),\n",
       " array([ 58.,  44., 175.,  91.], dtype=float32),\n",
       " array([ 64., 131., 134., 185.], dtype=float32),\n",
       " array([ 93.,  49., 119.,  92.], dtype=float32),\n",
       " array([ 80., 136., 174., 180.], dtype=float32),\n",
       " array([ 64., 155., 166., 196.], dtype=float32),\n",
       " array([ 75.,  60., 174.,  94.], dtype=float32),\n",
       " array([111.,  42., 193.,  87.], dtype=float32),\n",
       " array([ 93., 126., 181., 193.], dtype=float32),\n",
       " array([ 15.,  27., 151.,  85.], dtype=float32),\n",
       " array([ 48.,  28., 159.,  84.], dtype=float32),\n",
       " array([111.,  39., 161.,  93.], dtype=float32),\n",
       " array([ 40., 149., 128., 206.], dtype=float32),\n",
       " array([41., 35., 77., 68.], dtype=float32),\n",
       " array([ 76., 104., 166., 167.], dtype=float32),\n",
       " array([ 93.,  62., 146., 101.], dtype=float32),\n",
       " array([ 23.,  51., 126.,  95.], dtype=float32),\n",
       " array([42., 65., 83., 96.], dtype=float32),\n",
       " array([ 41.,  51., 139.,  94.], dtype=float32),\n",
       " array([137.,  62., 184.,  98.], dtype=float32),\n",
       " array([ 83., 130., 101., 168.], dtype=float32),\n",
       " array([ 78., 135., 131., 182.], dtype=float32),\n",
       " array([115.,  42., 158.,  88.], dtype=float32),\n",
       " array([ 75., 130., 151., 179.], dtype=float32),\n",
       " array([ 88., 123., 139., 168.], dtype=float32),\n",
       " array([ 32.,  41., 159.,  98.], dtype=float32),\n",
       " array([ 26.,  17., 148.,  79.], dtype=float32),\n",
       " array([ 16.,  38., 127., 103.], dtype=float32),\n",
       " array([ 95.,  37., 166.,  76.], dtype=float32),\n",
       " array([ 79., 144., 153., 184.], dtype=float32),\n",
       " array([ 31., 117., 166., 177.], dtype=float32),\n",
       " array([ 70.,  48., 180., 105.], dtype=float32),\n",
       " array([ 60.,  49., 156.,  92.], dtype=float32),\n",
       " array([111.,  65., 167., 109.], dtype=float32),\n",
       " array([ 60., 150., 181., 203.], dtype=float32),\n",
       " array([119.,  37., 152.,  83.], dtype=float32),\n",
       " array([ 95.,  66., 136., 100.], dtype=float32),\n",
       " array([ 36.,  47., 177.,  97.], dtype=float32),\n",
       " array([120., 135., 201., 184.], dtype=float32),\n",
       " array([ 93., 148., 183., 186.], dtype=float32),\n",
       " array([ 65.,  91., 164., 147.], dtype=float32),\n",
       " array([118., 118., 153., 157.], dtype=float32),\n",
       " array([ 78.,  53., 142.,  94.], dtype=float32),\n",
       " array([ 83.,  83., 154., 124.], dtype=float32),\n",
       " array([ 91., 139., 151., 201.], dtype=float32),\n",
       " array([143., 154., 187., 188.], dtype=float32),\n",
       " array([ 63., 110., 154., 160.], dtype=float32),\n",
       " array([ 79.,  30., 147.,  77.], dtype=float32),\n",
       " array([103.,  72., 152., 108.], dtype=float32),\n",
       " array([137.,  44., 168.,  97.], dtype=float32),\n",
       " array([  7.,  89., 103., 172.], dtype=float32),\n",
       " array([ 34.,  46., 164., 107.], dtype=float32),\n",
       " array([167., 127., 211., 174.], dtype=float32),\n",
       " array([103.,  41., 146.,  89.], dtype=float32),\n",
       " array([ 83., 151., 136., 191.], dtype=float32),\n",
       " array([ 56., 134., 195., 187.], dtype=float32),\n",
       " array([ 34., 134., 168., 198.], dtype=float32),\n",
       " array([ 59.,  28., 161.,  80.], dtype=float32),\n",
       " array([101., 130., 149., 156.], dtype=float32),\n",
       " array([ 38.,  70., 151., 137.], dtype=float32),\n",
       " array([ 53., 137., 150., 187.], dtype=float32),\n",
       " array([ 57., 128., 171., 188.], dtype=float32),\n",
       " array([ 58., 122., 147., 169.], dtype=float32),\n",
       " array([ 89., 135., 128., 179.], dtype=float32),\n",
       " array([ 30., 125., 157., 187.], dtype=float32),\n",
       " array([ 52.,  37., 106.,  85.], dtype=float32),\n",
       " array([ 94.,  31., 126.,  87.], dtype=float32),\n",
       " array([ 72.,  44., 204.,  92.], dtype=float32),\n",
       " array([ 41., 115., 134., 160.], dtype=float32),\n",
       " array([ 92., 143., 124., 183.], dtype=float32),\n",
       " array([ 53., 134., 177., 199.], dtype=float32),\n",
       " array([ 55., 126., 166., 182.], dtype=float32),\n",
       " array([ 51., 106., 186., 194.], dtype=float32),\n",
       " array([ 84., 130., 131., 175.], dtype=float32),\n",
       " array([132., 148., 161., 194.], dtype=float32),\n",
       " array([137., 149., 183., 197.], dtype=float32),\n",
       " array([ 39., 141., 160., 200.], dtype=float32),\n",
       " array([ 46., 132., 188., 211.], dtype=float32),\n",
       " array([ 78.,  59., 141.,  95.], dtype=float32),\n",
       " array([ 86.,  26., 135.,  74.], dtype=float32),\n",
       " array([140.,  52., 181., 108.], dtype=float32),\n",
       " array([104.,  50., 139.,  89.], dtype=float32),\n",
       " array([ 49.,  48., 125.,  98.], dtype=float32),\n",
       " array([ 39., 140., 144., 183.], dtype=float32),\n",
       " array([ 85., 145., 156., 182.], dtype=float32),\n",
       " array([ 97.,  40., 155.,  88.], dtype=float32),\n",
       " array([ 81.,  60., 151.,  98.], dtype=float32),\n",
       " array([ 97., 139., 183., 176.], dtype=float32),\n",
       " array([116., 141., 152., 188.], dtype=float32),\n",
       " array([ 53., 147., 195., 193.], dtype=float32),\n",
       " array([ 79., 124., 164., 177.], dtype=float32),\n",
       " array([ 88., 139., 179., 194.], dtype=float32),\n",
       " array([ 27., 118., 112., 169.], dtype=float32),\n",
       " array([ 48.,  32., 147.,  72.], dtype=float32),\n",
       " array([ 63.,  66., 113., 113.], dtype=float32),\n",
       " array([ 68., 135., 179., 189.], dtype=float32),\n",
       " array([ 43.,  40., 144.,  93.], dtype=float32),\n",
       " array([121., 122., 173., 168.], dtype=float32),\n",
       " array([ 17., 129., 170., 186.], dtype=float32),\n",
       " array([ 93.,  88., 136., 117.], dtype=float32),\n",
       " array([140., 119., 174., 147.], dtype=float32),\n",
       " array([108., 133., 138., 166.], dtype=float32),\n",
       " array([ 91., 120., 137., 163.], dtype=float32),\n",
       " array([ 80.,  43., 104.,  89.], dtype=float32),\n",
       " array([ 70., 121., 184., 178.], dtype=float32),\n",
       " array([ 72.,  43., 186.,  98.], dtype=float32),\n",
       " array([ 33., 125., 135., 179.], dtype=float32),\n",
       " array([ 36.,  30., 174.,  90.], dtype=float32),\n",
       " array([105.,  51., 177.,  97.], dtype=float32),\n",
       " array([ 41.,  57., 116., 101.], dtype=float32),\n",
       " array([ 17., 130., 154., 200.], dtype=float32),\n",
       " array([ 80.,  40., 156.,  88.], dtype=float32),\n",
       " array([ 83., 121., 139., 158.], dtype=float32),\n",
       " array([ 72., 118., 207., 182.], dtype=float32),\n",
       " array([111., 144., 168., 185.], dtype=float32),\n",
       " array([ 73., 141., 136., 204.], dtype=float32),\n",
       " array([ 60.,  30., 205.,  97.], dtype=float32),\n",
       " array([ 42.,  45., 146.,  95.], dtype=float32),\n",
       " array([ 42., 112., 149., 173.], dtype=float32),\n",
       " array([ 66.,  29., 164.,  96.], dtype=float32),\n",
       " array([131.,  38., 189.,  96.], dtype=float32),\n",
       " array([ 67.,  51., 140.,  87.], dtype=float32),\n",
       " array([ 83.,  66., 135.,  99.], dtype=float32),\n",
       " array([ 51.,  35., 136.,  89.], dtype=float32),\n",
       " array([ 67.,  44., 119.,  85.], dtype=float32),\n",
       " array([ 55., 121., 172., 175.], dtype=float32),\n",
       " array([ 48., 124., 187., 180.], dtype=float32),\n",
       " array([138.,  40., 167.,  86.], dtype=float32),\n",
       " array([121.,  86., 158., 119.], dtype=float32),\n",
       " array([ 35., 128., 110., 155.], dtype=float32),\n",
       " array([ 83., 130., 161., 177.], dtype=float32),\n",
       " array([161., 139., 207., 178.], dtype=float32),\n",
       " array([ 33., 138., 130., 177.], dtype=float32),\n",
       " array([ 25.,  40., 165.,  95.], dtype=float32),\n",
       " array([ 55.,  25., 108.,  91.], dtype=float32),\n",
       " array([ 21.,  54., 138., 109.], dtype=float32),\n",
       " array([ 90., 126., 139., 177.], dtype=float32),\n",
       " array([113., 144., 143., 170.], dtype=float32),\n",
       " array([142., 139., 184., 187.], dtype=float32),\n",
       " array([ 49., 132., 106., 183.], dtype=float32),\n",
       " array([ 70., 100., 120., 154.], dtype=float32),\n",
       " array([  1.,  66.,  59., 113.], dtype=float32),\n",
       " array([ 31.,  45., 124.,  89.], dtype=float32),\n",
       " array([ 29.,  32., 108.,  87.], dtype=float32),\n",
       " array([ 88., 138., 150., 186.], dtype=float32),\n",
       " array([ 68., 114., 128., 151.], dtype=float32),\n",
       " array([ 48., 125., 154., 177.], dtype=float32),\n",
       " array([123., 128., 160., 175.], dtype=float32),\n",
       " array([ 54., 121., 196., 187.], dtype=float32),\n",
       " array([104., 144., 161., 180.], dtype=float32),\n",
       " array([ 39.,  48., 178.,  94.], dtype=float32),\n",
       " array([119., 129., 190., 177.], dtype=float32),\n",
       " array([ 59., 134., 203., 176.], dtype=float32),\n",
       " array([ 26., 130., 107., 170.], dtype=float32),\n",
       " array([ 32., 128., 156., 181.], dtype=float32),\n",
       " array([133., 138., 174., 186.], dtype=float32),\n",
       " array([ 74., 128., 152., 174.], dtype=float32),\n",
       " array([ 31., 141., 167., 202.], dtype=float32),\n",
       " array([ 40.,  54., 158., 103.], dtype=float32),\n",
       " array([104., 149., 158., 196.], dtype=float32),\n",
       " array([ 88., 133., 132., 183.], dtype=float32),\n",
       " array([ 28.,  36., 144., 100.], dtype=float32),\n",
       " array([ 43., 121., 160., 180.], dtype=float32),\n",
       " array([126.,  35., 177.,  90.], dtype=float32),\n",
       " array([ 19., 123., 143., 182.], dtype=float32),\n",
       " array([113., 133., 160., 177.], dtype=float32),\n",
       " array([138.,  50., 183.,  99.], dtype=float32),\n",
       " array([ 68.,  42., 140.,  86.], dtype=float32),\n",
       " array([ 77., 112., 144., 184.], dtype=float32),\n",
       " array([ 76., 130., 196., 187.], dtype=float32),\n",
       " array([ 22.,  58., 135., 100.], dtype=float32),\n",
       " array([ 60.,  66., 189., 122.], dtype=float32),\n",
       " array([ 72., 140., 164., 172.], dtype=float32),\n",
       " array([128.,  55., 169.,  94.], dtype=float32),\n",
       " array([ 95.,  42., 134.,  89.], dtype=float32),\n",
       " array([113.,  52., 166.,  96.], dtype=float32),\n",
       " array([ 93.,  42., 145.,  94.], dtype=float32),\n",
       " array([ 48.,  19., 145.,  81.], dtype=float32),\n",
       " array([ 74., 139., 197., 201.], dtype=float32),\n",
       " array([ 46., 130., 149., 175.], dtype=float32),\n",
       " array([ 71., 137., 181., 196.], dtype=float32),\n",
       " array([ 54., 127., 150., 185.], dtype=float32),\n",
       " array([ 41.,  57., 113., 103.], dtype=float32),\n",
       " array([ 65., 147., 123., 178.], dtype=float32),\n",
       " array([106.,  33., 169.,  85.], dtype=float32),\n",
       " array([ 57., 128., 199., 174.], dtype=float32),\n",
       " array([107., 140., 136., 179.], dtype=float32),\n",
       " array([104., 163., 172., 209.], dtype=float32),\n",
       " array([118., 149., 205., 190.], dtype=float32),\n",
       " array([ 32., 135., 161., 184.], dtype=float32),\n",
       " array([107., 127., 159., 156.], dtype=float32),\n",
       " array([ 93., 131., 201., 187.], dtype=float32),\n",
       " array([102., 132., 136., 170.], dtype=float32),\n",
       " array([ 51.,  29., 125.,  75.], dtype=float32),\n",
       " array([ 86., 123., 163., 178.], dtype=float32),\n",
       " array([ 67., 102., 205., 172.], dtype=float32),\n",
       " array([ 97., 131., 146., 177.], dtype=float32),\n",
       " array([ 49.,  90., 138., 160.], dtype=float32),\n",
       " array([ 37., 122., 145., 167.], dtype=float32),\n",
       " array([ 35., 118., 145., 179.], dtype=float32),\n",
       " array([116.,   5., 154.,  47.], dtype=float32),\n",
       " array([105.,  44., 143.,  90.], dtype=float32),\n",
       " array([ 82.,  51., 186., 116.], dtype=float32),\n",
       " array([122., 129., 205., 196.], dtype=float32),\n",
       " array([ 73.,  41., 147.,  96.], dtype=float32),\n",
       " array([119., 132., 137., 172.], dtype=float32),\n",
       " array([ 59.,  53., 158., 105.], dtype=float32),\n",
       " array([120., 153., 191., 209.], dtype=float32),\n",
       " array([ 95., 129., 158., 186.], dtype=float32),\n",
       " array([ 93., 137., 165., 183.], dtype=float32),\n",
       " array([ 28., 121., 142., 181.], dtype=float32),\n",
       " array([ 75., 125., 123., 186.], dtype=float32),\n",
       " array([ 70., 133., 195., 202.], dtype=float32),\n",
       " array([ 90.,  71., 166., 121.], dtype=float32),\n",
       " array([ 51., 106., 163., 156.], dtype=float32),\n",
       " array([ 91.,  45., 155.,  91.], dtype=float32),\n",
       " array([ 47.,  51., 168., 105.], dtype=float32),\n",
       " array([ 75., 122., 169., 189.], dtype=float32),\n",
       " array([ 68.,  40., 147.,  76.], dtype=float32),\n",
       " array([ 51., 104., 166., 174.], dtype=float32),\n",
       " array([ 58.,  43., 144.,  94.], dtype=float32),\n",
       " array([ 85.,  35., 137.,  92.], dtype=float32),\n",
       " array([ 42., 128., 159., 177.], dtype=float32),\n",
       " array([ 64., 136., 182., 200.], dtype=float32),\n",
       " array([102.,  50., 145., 112.], dtype=float32),\n",
       " array([ 25.,  48., 138., 111.], dtype=float32),\n",
       " array([ 66., 122., 147., 186.], dtype=float32),\n",
       " array([ 98.,  56., 173., 110.], dtype=float32),\n",
       " array([100.,  47., 153., 103.], dtype=float32),\n",
       " array([ 77.,  35., 166., 106.], dtype=float32),\n",
       " array([ 97., 142., 200., 198.], dtype=float32),\n",
       " array([ 34., 130., 148., 189.], dtype=float32),\n",
       " array([ 96.,  54., 171., 106.], dtype=float32),\n",
       " array([ 90.,  52., 166., 109.], dtype=float32),\n",
       " array([ 60., 114., 133., 171.], dtype=float32),\n",
       " array([145.,  47., 213.,  76.], dtype=float32),\n",
       " array([ 80., 120., 149., 192.], dtype=float32),\n",
       " ...]"
      ]
     },
     "execution_count": 212,
     "metadata": {},
     "output_type": "execute_result"
    }
   ],
   "source": [
    "positive_boxes"
   ]
  },
  {
   "cell_type": "code",
   "execution_count": 248,
   "metadata": {},
   "outputs": [],
   "source": [
    "positive_preds = []"
   ]
  },
  {
   "cell_type": "code",
   "execution_count": 250,
   "metadata": {},
   "outputs": [],
   "source": [
    "for p in y:\n",
    "    if (np.argmax(p[4:]))==1:\n",
    "        positive_preds.append(expit(p[:4])*224)"
   ]
  },
  {
   "cell_type": "code",
   "execution_count": 267,
   "metadata": {},
   "outputs": [],
   "source": [
    "for i in range(len(positive_preds)):\n",
    "    accuracy = accuracy + iou(positive_boxes[i], positive_preds[i])\n",
    "mean_accuracy = accuracy/(len(positive_preds))"
   ]
  },
  {
   "cell_type": "code",
   "execution_count": 268,
   "metadata": {},
   "outputs": [
    {
     "data": {
      "text/plain": [
       "0.38618540821965086"
      ]
     },
     "execution_count": 268,
     "metadata": {},
     "output_type": "execute_result"
    }
   ],
   "source": [
    "mean_accuracy"
   ]
  }
 ],
 "metadata": {
  "kernelspec": {
   "display_name": "Python 3",
   "language": "python",
   "name": "python3"
  },
  "language_info": {
   "codemirror_mode": {
    "name": "ipython",
    "version": 3
   },
   "file_extension": ".py",
   "mimetype": "text/x-python",
   "name": "python",
   "nbconvert_exporter": "python",
   "pygments_lexer": "ipython3",
   "version": "3.6.6"
  }
 },
 "nbformat": 4,
 "nbformat_minor": 2
}
